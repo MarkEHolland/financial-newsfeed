{
 "cells": [
  {
   "cell_type": "code",
   "execution_count": 1,
   "id": "e31e7a66-af6a-465e-95aa-a1958c4f40e4",
   "metadata": {},
   "outputs": [],
   "source": [
    "### use nlp environment"
   ]
  },
  {
   "cell_type": "code",
   "execution_count": 2,
   "id": "4ac05516-e1b3-4ef4-864b-848f2eed039f",
   "metadata": {},
   "outputs": [
    {
     "name": "stdout",
     "output_type": "stream",
     "text": [
      "Python 3.10.13\n"
     ]
    }
   ],
   "source": [
    "!python -V"
   ]
  },
  {
   "cell_type": "code",
   "execution_count": 3,
   "id": "e04c3967-a859-4ad1-9632-4baf795a618b",
   "metadata": {},
   "outputs": [],
   "source": [
    "import requests\n",
    "from bs4 import BeautifulSoup\n",
    "import spacy"
   ]
  },
  {
   "cell_type": "code",
   "execution_count": 4,
   "id": "666327d2-6f68-4817-bd2c-24edddb95398",
   "metadata": {},
   "outputs": [],
   "source": [
    "rss_url = \"https://www.ft.com/myft/following/b2120a11-fbdf-494e-992c-1948e0e71113.rss\""
   ]
  },
  {
   "cell_type": "code",
   "execution_count": 5,
   "id": "c95cfb40-5ce3-49b8-8277-449519b0d87a",
   "metadata": {},
   "outputs": [
    {
     "name": "stderr",
     "output_type": "stream",
     "text": [
      "C:\\Users\\marke\\projects\\nlp\\.venv\\lib\\site-packages\\torch\\__init__.py:1144: UserWarning: torch.set_default_tensor_type() is deprecated as of PyTorch 2.1, please use torch.set_default_dtype() and torch.set_default_device() as alternatives. (Triggered internally at C:\\actions-runner\\_work\\pytorch\\pytorch\\builder\\windows\\pytorch\\torch\\csrc\\tensor\\python_tensor.cpp:434.)\n",
      "  _C._set_default_tensor_type(t)\n"
     ]
    }
   ],
   "source": [
    "nlp = spacy.load(\"en_core_web_sm\")"
   ]
  },
  {
   "cell_type": "code",
   "execution_count": 6,
   "id": "3fa97e68-6fe0-4a04-816e-646e57e1f1d1",
   "metadata": {},
   "outputs": [],
   "source": [
    "response = requests.get(rss_url)"
   ]
  },
  {
   "cell_type": "code",
   "execution_count": 7,
   "id": "208e4bfc-6c70-4be7-8382-d37daf592043",
   "metadata": {},
   "outputs": [],
   "source": [
    "rss_feed = response.text"
   ]
  },
  {
   "cell_type": "code",
   "execution_count": 8,
   "id": "37d086c9-f462-4bbd-86d7-f1f61005b11c",
   "metadata": {},
   "outputs": [],
   "source": [
    "soup = BeautifulSoup(rss_feed, features=\"xml\")"
   ]
  },
  {
   "cell_type": "code",
   "execution_count": 9,
   "id": "ee98cdcc-f1e6-40aa-a663-838021e43f06",
   "metadata": {},
   "outputs": [
    {
     "name": "stdout",
     "output_type": "stream",
     "text": [
      "myFT following\n"
     ]
    }
   ],
   "source": [
    "response = requests.get(rss_url)\n",
    "\n",
    "if response.status_code == 200:\n",
    "    rss_feed = response.text\n",
    "    soup = BeautifulSoup(rss_feed, features=\"xml\")\n",
    "    entries = soup.find_all('title')\n",
    "    if len(entries) > 0:\n",
    "        title = entries[0]\n",
    "        if title is not None:\n",
    "            print(title.text)\n",
    "        else:\n",
    "            print(\"No title found in the first entry\")\n",
    "    else:\n",
    "        print(\"No entry found in the RSS feed\")\n",
    "else:\n",
    "    print(\"Failed to get RSS feed. Status code:\", response.status_code)"
   ]
  },
  {
   "cell_type": "code",
   "execution_count": null,
   "id": "d92d3496-d863-4429-bf8f-5fe96f0fac7e",
   "metadata": {},
   "outputs": [],
   "source": []
  }
 ],
 "metadata": {
  "kernelspec": {
   "display_name": "nlp",
   "language": "python",
   "name": "nlp"
  },
  "language_info": {
   "codemirror_mode": {
    "name": "ipython",
    "version": 3
   },
   "file_extension": ".py",
   "mimetype": "text/x-python",
   "name": "python",
   "nbconvert_exporter": "python",
   "pygments_lexer": "ipython3",
   "version": "3.9.13"
  }
 },
 "nbformat": 4,
 "nbformat_minor": 5
}
