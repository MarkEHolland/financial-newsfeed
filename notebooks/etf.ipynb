{
 "cells": [
  {
   "cell_type": "code",
   "execution_count": 1,
   "id": "80a51f8b-efd3-41a7-a6e7-26b2c1c81fac",
   "metadata": {},
   "outputs": [],
   "source": [
    "import yfinance as yf\n",
    "import pandas as pd"
   ]
  },
  {
   "cell_type": "markdown",
   "id": "3f6a9494-0f2a-43f1-964b-966e06276238",
   "metadata": {},
   "source": [
    "### investments tickers"
   ]
  },
  {
   "cell_type": "code",
   "execution_count": 25,
   "id": "8dd363c2-6d9c-4f9a-aeee-5da3043af4f0",
   "metadata": {},
   "outputs": [],
   "source": [
    "symbol_type = \"ETF\""
   ]
  },
  {
   "cell_type": "code",
   "execution_count": 26,
   "id": "7f41dc24-fca9-4a6a-9069-258d836530a1",
   "metadata": {},
   "outputs": [],
   "source": [
    "yf_market_info  = pd.read_csv('../data/market_info.csv')"
   ]
  },
  {
   "cell_type": "code",
   "execution_count": 27,
   "id": "e95d1707-aad7-479a-8864-1e2d26f1e4d4",
   "metadata": {},
   "outputs": [],
   "source": [
    "ticker_info_df = yf_market_info[yf_market_info.symbol_type==symbol_type].reset_index()\n",
    "ticker_list = list(ticker_info_df.symbol)"
   ]
  },
  {
   "cell_type": "code",
   "execution_count": 28,
   "id": "c26ce766-8c83-42f1-b389-4aacc28d66d8",
   "metadata": {},
   "outputs": [],
   "source": [
    "ticker_symbols  = \" \".join(ticker_list)"
   ]
  },
  {
   "cell_type": "code",
   "execution_count": 29,
   "id": "c4975b90-af6e-4ce7-9ca7-a1efa65efd88",
   "metadata": {},
   "outputs": [],
   "source": [
    "#ticker_symbols = ticker_symbols + \" EURGBP=X\""
   ]
  },
  {
   "cell_type": "code",
   "execution_count": 55,
   "id": "f0f4ab78-c2fc-4c45-ad87-e8f4a2ae9769",
   "metadata": {},
   "outputs": [
    {
     "name": "stderr",
     "output_type": "stream",
     "text": [
      "[*********************100%***********************]  4 of 4 completed\n"
     ]
    },
    {
     "data": {
      "text/html": [
       "<div>\n",
       "<style scoped>\n",
       "    .dataframe tbody tr th:only-of-type {\n",
       "        vertical-align: middle;\n",
       "    }\n",
       "\n",
       "    .dataframe tbody tr th {\n",
       "        vertical-align: top;\n",
       "    }\n",
       "\n",
       "    .dataframe thead tr th {\n",
       "        text-align: left;\n",
       "    }\n",
       "\n",
       "    .dataframe thead tr:last-of-type th {\n",
       "        text-align: right;\n",
       "    }\n",
       "</style>\n",
       "<table border=\"1\" class=\"dataframe\">\n",
       "  <thead>\n",
       "    <tr>\n",
       "      <th>Price</th>\n",
       "      <th colspan=\"4\" halign=\"left\">Close</th>\n",
       "      <th colspan=\"4\" halign=\"left\">High</th>\n",
       "      <th colspan=\"4\" halign=\"left\">Low</th>\n",
       "      <th colspan=\"4\" halign=\"left\">Open</th>\n",
       "      <th colspan=\"4\" halign=\"left\">Volume</th>\n",
       "    </tr>\n",
       "    <tr>\n",
       "      <th>Ticker</th>\n",
       "      <th>CNKY.L</th>\n",
       "      <th>FTAL.L</th>\n",
       "      <th>S600.L</th>\n",
       "      <th>SXR8.DE</th>\n",
       "      <th>CNKY.L</th>\n",
       "      <th>FTAL.L</th>\n",
       "      <th>S600.L</th>\n",
       "      <th>SXR8.DE</th>\n",
       "      <th>CNKY.L</th>\n",
       "      <th>FTAL.L</th>\n",
       "      <th>S600.L</th>\n",
       "      <th>SXR8.DE</th>\n",
       "      <th>CNKY.L</th>\n",
       "      <th>FTAL.L</th>\n",
       "      <th>S600.L</th>\n",
       "      <th>SXR8.DE</th>\n",
       "      <th>CNKY.L</th>\n",
       "      <th>FTAL.L</th>\n",
       "      <th>S600.L</th>\n",
       "      <th>SXR8.DE</th>\n",
       "    </tr>\n",
       "    <tr>\n",
       "      <th>Date</th>\n",
       "      <th></th>\n",
       "      <th></th>\n",
       "      <th></th>\n",
       "      <th></th>\n",
       "      <th></th>\n",
       "      <th></th>\n",
       "      <th></th>\n",
       "      <th></th>\n",
       "      <th></th>\n",
       "      <th></th>\n",
       "      <th></th>\n",
       "      <th></th>\n",
       "      <th></th>\n",
       "      <th></th>\n",
       "      <th></th>\n",
       "      <th></th>\n",
       "      <th></th>\n",
       "      <th></th>\n",
       "      <th></th>\n",
       "      <th></th>\n",
       "    </tr>\n",
       "  </thead>\n",
       "  <tbody>\n",
       "    <tr>\n",
       "      <th>2015-01-15</th>\n",
       "      <td>8519.0</td>\n",
       "      <td>37.840000</td>\n",
       "      <td>4968.0</td>\n",
       "      <td>158.070007</td>\n",
       "      <td>8519.000000</td>\n",
       "      <td>38.299999</td>\n",
       "      <td>4968.0</td>\n",
       "      <td>158.960007</td>\n",
       "      <td>8519.000000</td>\n",
       "      <td>36.810001</td>\n",
       "      <td>4968.0</td>\n",
       "      <td>155.880005</td>\n",
       "      <td>8519.000000</td>\n",
       "      <td>37.830002</td>\n",
       "      <td>4968.0</td>\n",
       "      <td>157.509995</td>\n",
       "      <td>0.0</td>\n",
       "      <td>19550.0</td>\n",
       "      <td>0.0</td>\n",
       "      <td>21731.0</td>\n",
       "    </tr>\n",
       "    <tr>\n",
       "      <th>2015-01-16</th>\n",
       "      <td>8547.0</td>\n",
       "      <td>38.299999</td>\n",
       "      <td>5009.0</td>\n",
       "      <td>158.949997</td>\n",
       "      <td>8470.150391</td>\n",
       "      <td>38.299999</td>\n",
       "      <td>5009.0</td>\n",
       "      <td>159.619995</td>\n",
       "      <td>8470.150391</td>\n",
       "      <td>37.450001</td>\n",
       "      <td>5009.0</td>\n",
       "      <td>155.860001</td>\n",
       "      <td>8470.150391</td>\n",
       "      <td>37.849998</td>\n",
       "      <td>5009.0</td>\n",
       "      <td>156.539993</td>\n",
       "      <td>15.0</td>\n",
       "      <td>42806.0</td>\n",
       "      <td>0.0</td>\n",
       "      <td>52447.0</td>\n",
       "    </tr>\n",
       "    <tr>\n",
       "      <th>2015-01-19</th>\n",
       "      <td>8566.0</td>\n",
       "      <td>38.470001</td>\n",
       "      <td>5049.0</td>\n",
       "      <td>158.570007</td>\n",
       "      <td>8535.000000</td>\n",
       "      <td>38.599998</td>\n",
       "      <td>5049.0</td>\n",
       "      <td>159.509995</td>\n",
       "      <td>8527.849609</td>\n",
       "      <td>38.139999</td>\n",
       "      <td>5049.0</td>\n",
       "      <td>158.089996</td>\n",
       "      <td>8527.849609</td>\n",
       "      <td>38.209999</td>\n",
       "      <td>5049.0</td>\n",
       "      <td>159.509995</td>\n",
       "      <td>44.0</td>\n",
       "      <td>17703.0</td>\n",
       "      <td>0.0</td>\n",
       "      <td>48381.0</td>\n",
       "    </tr>\n",
       "    <tr>\n",
       "      <th>2015-01-20</th>\n",
       "      <td>8599.5</td>\n",
       "      <td>38.759998</td>\n",
       "      <td>5058.0</td>\n",
       "      <td>159.100006</td>\n",
       "      <td>8761.000000</td>\n",
       "      <td>38.980000</td>\n",
       "      <td>5058.0</td>\n",
       "      <td>160.410004</td>\n",
       "      <td>8533.849609</td>\n",
       "      <td>38.529999</td>\n",
       "      <td>5058.0</td>\n",
       "      <td>158.570007</td>\n",
       "      <td>8674.000000</td>\n",
       "      <td>38.820000</td>\n",
       "      <td>5058.0</td>\n",
       "      <td>160.000000</td>\n",
       "      <td>984.0</td>\n",
       "      <td>33607.0</td>\n",
       "      <td>0.0</td>\n",
       "      <td>33048.0</td>\n",
       "    </tr>\n",
       "    <tr>\n",
       "      <th>2015-01-21</th>\n",
       "      <td>8643.5</td>\n",
       "      <td>39.209999</td>\n",
       "      <td>5121.0</td>\n",
       "      <td>160.610001</td>\n",
       "      <td>8634.000000</td>\n",
       "      <td>39.230000</td>\n",
       "      <td>5102.0</td>\n",
       "      <td>160.759995</td>\n",
       "      <td>8617.349609</td>\n",
       "      <td>38.549999</td>\n",
       "      <td>5102.0</td>\n",
       "      <td>158.250000</td>\n",
       "      <td>8634.000000</td>\n",
       "      <td>38.919998</td>\n",
       "      <td>5102.0</td>\n",
       "      <td>160.229996</td>\n",
       "      <td>171.0</td>\n",
       "      <td>15368.0</td>\n",
       "      <td>2000.0</td>\n",
       "      <td>17544.0</td>\n",
       "    </tr>\n",
       "  </tbody>\n",
       "</table>\n",
       "</div>"
      ],
      "text/plain": [
       "Price        Close                                        High             \\\n",
       "Ticker      CNKY.L     FTAL.L  S600.L     SXR8.DE       CNKY.L     FTAL.L   \n",
       "Date                                                                        \n",
       "2015-01-15  8519.0  37.840000  4968.0  158.070007  8519.000000  38.299999   \n",
       "2015-01-16  8547.0  38.299999  5009.0  158.949997  8470.150391  38.299999   \n",
       "2015-01-19  8566.0  38.470001  5049.0  158.570007  8535.000000  38.599998   \n",
       "2015-01-20  8599.5  38.759998  5058.0  159.100006  8761.000000  38.980000   \n",
       "2015-01-21  8643.5  39.209999  5121.0  160.610001  8634.000000  39.230000   \n",
       "\n",
       "Price                                   Low                                 \\\n",
       "Ticker      S600.L     SXR8.DE       CNKY.L     FTAL.L  S600.L     SXR8.DE   \n",
       "Date                                                                         \n",
       "2015-01-15  4968.0  158.960007  8519.000000  36.810001  4968.0  155.880005   \n",
       "2015-01-16  5009.0  159.619995  8470.150391  37.450001  5009.0  155.860001   \n",
       "2015-01-19  5049.0  159.509995  8527.849609  38.139999  5049.0  158.089996   \n",
       "2015-01-20  5058.0  160.410004  8533.849609  38.529999  5058.0  158.570007   \n",
       "2015-01-21  5102.0  160.759995  8617.349609  38.549999  5102.0  158.250000   \n",
       "\n",
       "Price              Open                                Volume           \\\n",
       "Ticker           CNKY.L     FTAL.L  S600.L     SXR8.DE CNKY.L   FTAL.L   \n",
       "Date                                                                     \n",
       "2015-01-15  8519.000000  37.830002  4968.0  157.509995    0.0  19550.0   \n",
       "2015-01-16  8470.150391  37.849998  5009.0  156.539993   15.0  42806.0   \n",
       "2015-01-19  8527.849609  38.209999  5049.0  159.509995   44.0  17703.0   \n",
       "2015-01-20  8674.000000  38.820000  5058.0  160.000000  984.0  33607.0   \n",
       "2015-01-21  8634.000000  38.919998  5102.0  160.229996  171.0  15368.0   \n",
       "\n",
       "Price                        \n",
       "Ticker      S600.L  SXR8.DE  \n",
       "Date                         \n",
       "2015-01-15     0.0  21731.0  \n",
       "2015-01-16     0.0  52447.0  \n",
       "2015-01-19     0.0  48381.0  \n",
       "2015-01-20     0.0  33048.0  \n",
       "2015-01-21  2000.0  17544.0  "
      ]
     },
     "execution_count": 55,
     "metadata": {},
     "output_type": "execute_result"
    }
   ],
   "source": [
    "data = yf.download(ticker_symbols, period='10y')\n",
    "data.head()"
   ]
  },
  {
   "cell_type": "code",
   "execution_count": 56,
   "id": "56fc7b34-e138-4c96-8ecd-47c7e9fef33a",
   "metadata": {},
   "outputs": [
    {
     "data": {
      "text/plain": [
       "MultiIndex([( 'Close',  'CNKY.L'),\n",
       "            ( 'Close',  'FTAL.L'),\n",
       "            ( 'Close',  'S600.L'),\n",
       "            ( 'Close', 'SXR8.DE'),\n",
       "            (  'High',  'CNKY.L'),\n",
       "            (  'High',  'FTAL.L'),\n",
       "            (  'High',  'S600.L'),\n",
       "            (  'High', 'SXR8.DE'),\n",
       "            (   'Low',  'CNKY.L'),\n",
       "            (   'Low',  'FTAL.L'),\n",
       "            (   'Low',  'S600.L'),\n",
       "            (   'Low', 'SXR8.DE'),\n",
       "            (  'Open',  'CNKY.L'),\n",
       "            (  'Open',  'FTAL.L'),\n",
       "            (  'Open',  'S600.L'),\n",
       "            (  'Open', 'SXR8.DE'),\n",
       "            ('Volume',  'CNKY.L'),\n",
       "            ('Volume',  'FTAL.L'),\n",
       "            ('Volume',  'S600.L'),\n",
       "            ('Volume', 'SXR8.DE')],\n",
       "           names=['Price', 'Ticker'])"
      ]
     },
     "execution_count": 56,
     "metadata": {},
     "output_type": "execute_result"
    }
   ],
   "source": [
    "data.columns"
   ]
  },
  {
   "cell_type": "markdown",
   "id": "83616767-666b-455a-a27d-478f0de9e294",
   "metadata": {},
   "source": [
    "### returns"
   ]
  },
  {
   "cell_type": "code",
   "execution_count": 57,
   "id": "c248051c-88da-41f2-940f-5ece98ae195b",
   "metadata": {},
   "outputs": [],
   "source": [
    "yf_period = \"1y\" # ['1d', '5d', '1mo', '3mo', '6mo', '1y', '2y', '5y', '10y', 'ytd', 'max']\n",
    "yf_interval = \"1d\""
   ]
  },
  {
   "cell_type": "code",
   "execution_count": 58,
   "id": "4c1216fb-9ff2-4acf-9bb8-8a8a4a9326b7",
   "metadata": {},
   "outputs": [
    {
     "name": "stderr",
     "output_type": "stream",
     "text": [
      "[*********************100%***********************]  4 of 4 completed\n"
     ]
    },
    {
     "data": {
      "text/html": [
       "<div>\n",
       "<style scoped>\n",
       "    .dataframe tbody tr th:only-of-type {\n",
       "        vertical-align: middle;\n",
       "    }\n",
       "\n",
       "    .dataframe tbody tr th {\n",
       "        vertical-align: top;\n",
       "    }\n",
       "\n",
       "    .dataframe thead th {\n",
       "        text-align: right;\n",
       "    }\n",
       "</style>\n",
       "<table border=\"1\" class=\"dataframe\">\n",
       "  <thead>\n",
       "    <tr style=\"text-align: right;\">\n",
       "      <th>Ticker</th>\n",
       "      <th>CNKY.L</th>\n",
       "      <th>FTAL.L</th>\n",
       "      <th>SXR8.DE</th>\n",
       "      <th>S600.L</th>\n",
       "    </tr>\n",
       "    <tr>\n",
       "      <th>Date</th>\n",
       "      <th></th>\n",
       "      <th></th>\n",
       "      <th></th>\n",
       "      <th></th>\n",
       "    </tr>\n",
       "  </thead>\n",
       "  <tbody>\n",
       "    <tr>\n",
       "      <th>2025-01-02</th>\n",
       "      <td>1.2418</td>\n",
       "      <td>1.0095</td>\n",
       "      <td>1.6612</td>\n",
       "      <td>0.7322</td>\n",
       "    </tr>\n",
       "    <tr>\n",
       "      <th>2025-01-03</th>\n",
       "      <td>-0.3729</td>\n",
       "      <td>-0.6373</td>\n",
       "      <td>-0.0557</td>\n",
       "      <td>-0.5137</td>\n",
       "    </tr>\n",
       "    <tr>\n",
       "      <th>2025-01-06</th>\n",
       "      <td>-0.1871</td>\n",
       "      <td>0.2114</td>\n",
       "      <td>0.5341</td>\n",
       "      <td>1.1398</td>\n",
       "    </tr>\n",
       "    <tr>\n",
       "      <th>2025-01-07</th>\n",
       "      <td>0.3059</td>\n",
       "      <td>-0.2109</td>\n",
       "      <td>-0.9973</td>\n",
       "      <td>0.2601</td>\n",
       "    </tr>\n",
       "    <tr>\n",
       "      <th>2025-01-08</th>\n",
       "      <td>0.8042</td>\n",
       "      <td>-0.2332</td>\n",
       "      <td>0.1350</td>\n",
       "      <td>0.1825</td>\n",
       "    </tr>\n",
       "    <tr>\n",
       "      <th>2025-01-09</th>\n",
       "      <td>-0.4758</td>\n",
       "      <td>0.8328</td>\n",
       "      <td>0.0822</td>\n",
       "      <td>0.8247</td>\n",
       "    </tr>\n",
       "    <tr>\n",
       "      <th>2025-01-10</th>\n",
       "      <td>-1.0296</td>\n",
       "      <td>-0.9347</td>\n",
       "      <td>-0.9789</td>\n",
       "      <td>-0.6372</td>\n",
       "    </tr>\n",
       "    <tr>\n",
       "      <th>2025-01-13</th>\n",
       "      <td>-0.1932</td>\n",
       "      <td>-0.2999</td>\n",
       "      <td>-0.0531</td>\n",
       "      <td>-0.5169</td>\n",
       "    </tr>\n",
       "    <tr>\n",
       "      <th>2025-01-14</th>\n",
       "      <td>-0.1439</td>\n",
       "      <td>-0.2641</td>\n",
       "      <td>-0.2190</td>\n",
       "      <td>0.4137</td>\n",
       "    </tr>\n",
       "    <tr>\n",
       "      <th>2025-01-15</th>\n",
       "      <td>0.7779</td>\n",
       "      <td>1.4269</td>\n",
       "      <td>1.7463</td>\n",
       "      <td>1.1307</td>\n",
       "    </tr>\n",
       "  </tbody>\n",
       "</table>\n",
       "</div>"
      ],
      "text/plain": [
       "Ticker      CNKY.L  FTAL.L  SXR8.DE  S600.L\n",
       "Date                                       \n",
       "2025-01-02  1.2418  1.0095   1.6612  0.7322\n",
       "2025-01-03 -0.3729 -0.6373  -0.0557 -0.5137\n",
       "2025-01-06 -0.1871  0.2114   0.5341  1.1398\n",
       "2025-01-07  0.3059 -0.2109  -0.9973  0.2601\n",
       "2025-01-08  0.8042 -0.2332   0.1350  0.1825\n",
       "2025-01-09 -0.4758  0.8328   0.0822  0.8247\n",
       "2025-01-10 -1.0296 -0.9347  -0.9789 -0.6372\n",
       "2025-01-13 -0.1932 -0.2999  -0.0531 -0.5169\n",
       "2025-01-14 -0.1439 -0.2641  -0.2190  0.4137\n",
       "2025-01-15  0.7779  1.4269   1.7463  1.1307"
      ]
     },
     "execution_count": 58,
     "metadata": {},
     "output_type": "execute_result"
    }
   ],
   "source": [
    "#  1.  Create dataframe yf_price with yf.download\n",
    "yf_returns = yf.download(\n",
    "        tickers = ticker_symbols,       # tickers list or string as well\n",
    "        period = yf_period,      # optional, default is '1mo'\n",
    "        interval = yf_interval,  # fetch data by intervaal\n",
    "        group_by = 'ticker',     # group by ticker\n",
    "        auto_adjust = True,      # adjust all OHLC (open-high-low-close)\n",
    "        prepost = True,          # download market hours data\n",
    "        threads = True,          # threads for mass downloading\n",
    "        proxy = None)            # proxy\n",
    "\n",
    "#  2.  Select 'Close' (price at market close) column only\n",
    "yf_returns = yf_returns.iloc[:, yf_returns.columns.get_level_values(1)=='Close']\n",
    "\n",
    "#  3.  Remove the dataframe multi-index\n",
    "yf_returns.columns = yf_returns.columns.droplevel(1)  # multi-index\n",
    "\n",
    "yf_returns_df = round(yf_returns.pct_change()*100, 4)\n",
    "\n",
    "yf_returns_df.tail(10)"
   ]
  },
  {
   "cell_type": "markdown",
   "id": "10522304-d190-46f4-9d84-1d354f2bd863",
   "metadata": {},
   "source": [
    "### dividends - check all ETFs are acc"
   ]
  },
  {
   "cell_type": "code",
   "execution_count": 59,
   "id": "12c1ed6e-c688-4fee-9486-253914ef3828",
   "metadata": {},
   "outputs": [
    {
     "data": {
      "text/plain": [
       "['SXR8.DE', 'FTAL.L', 'CNKY.L', 'S600.L']"
      ]
     },
     "execution_count": 59,
     "metadata": {},
     "output_type": "execute_result"
    }
   ],
   "source": [
    "ticker_list"
   ]
  },
  {
   "cell_type": "code",
   "execution_count": 60,
   "id": "319d444b-3e25-443c-a09e-a81c687bc498",
   "metadata": {},
   "outputs": [
    {
     "name": "stdout",
     "output_type": "stream",
     "text": [
      " SXR8.DE\t- no dividends\n",
      "  FTAL.L\t- no dividends\n",
      "  CNKY.L\t- no dividends\n",
      "  S600.L\t- no dividends\n"
     ]
    },
    {
     "ename": "TypeError",
     "evalue": "Invalid comparison between dtype=datetime64[ns, UTC] and Timestamp",
     "output_type": "error",
     "traceback": [
      "\u001b[1;31m---------------------------------------------------------------------------\u001b[0m",
      "\u001b[1;31mTypeError\u001b[0m                                 Traceback (most recent call last)",
      "File \u001b[1;32m~\\projects\\nlp\\.venv\\lib\\site-packages\\pandas\\core\\arrays\\datetimelike.py:582\u001b[0m, in \u001b[0;36mDatetimeLikeArrayMixin._validate_comparison_value\u001b[1;34m(self, other)\u001b[0m\n\u001b[0;32m    581\u001b[0m \u001b[38;5;28;01mtry\u001b[39;00m:\n\u001b[1;32m--> 582\u001b[0m     \u001b[38;5;28;43mself\u001b[39;49m\u001b[38;5;241;43m.\u001b[39;49m\u001b[43m_check_compatible_with\u001b[49m\u001b[43m(\u001b[49m\u001b[43mother\u001b[49m\u001b[43m)\u001b[49m\n\u001b[0;32m    583\u001b[0m \u001b[38;5;28;01mexcept\u001b[39;00m (\u001b[38;5;167;01mTypeError\u001b[39;00m, IncompatibleFrequency) \u001b[38;5;28;01mas\u001b[39;00m err:\n\u001b[0;32m    584\u001b[0m     \u001b[38;5;66;03m# e.g. tzawareness mismatch\u001b[39;00m\n",
      "File \u001b[1;32m~\\projects\\nlp\\.venv\\lib\\site-packages\\pandas\\core\\arrays\\datetimes.py:461\u001b[0m, in \u001b[0;36mDatetimeArray._check_compatible_with\u001b[1;34m(self, other, setitem)\u001b[0m\n\u001b[0;32m    460\u001b[0m     \u001b[38;5;28;01mreturn\u001b[39;00m\n\u001b[1;32m--> 461\u001b[0m \u001b[38;5;28;43mself\u001b[39;49m\u001b[38;5;241;43m.\u001b[39;49m\u001b[43m_assert_tzawareness_compat\u001b[49m\u001b[43m(\u001b[49m\u001b[43mother\u001b[49m\u001b[43m)\u001b[49m\n\u001b[0;32m    462\u001b[0m \u001b[38;5;28;01mif\u001b[39;00m setitem:\n\u001b[0;32m    463\u001b[0m     \u001b[38;5;66;03m# Stricter check for setitem vs comparison methods\u001b[39;00m\n",
      "File \u001b[1;32m~\\projects\\nlp\\.venv\\lib\\site-packages\\pandas\\core\\arrays\\datetimes.py:698\u001b[0m, in \u001b[0;36mDatetimeArray._assert_tzawareness_compat\u001b[1;34m(self, other)\u001b[0m\n\u001b[0;32m    697\u001b[0m \u001b[38;5;28;01melif\u001b[39;00m other_tz \u001b[38;5;129;01mis\u001b[39;00m \u001b[38;5;28;01mNone\u001b[39;00m:\n\u001b[1;32m--> 698\u001b[0m     \u001b[38;5;28;01mraise\u001b[39;00m \u001b[38;5;167;01mTypeError\u001b[39;00m(\n\u001b[0;32m    699\u001b[0m         \u001b[38;5;124m\"\u001b[39m\u001b[38;5;124mCannot compare tz-naive and tz-aware datetime-like objects\u001b[39m\u001b[38;5;124m\"\u001b[39m\n\u001b[0;32m    700\u001b[0m     )\n",
      "\u001b[1;31mTypeError\u001b[0m: Cannot compare tz-naive and tz-aware datetime-like objects",
      "\nThe above exception was the direct cause of the following exception:\n",
      "\u001b[1;31mInvalidComparison\u001b[0m                         Traceback (most recent call last)",
      "File \u001b[1;32m~\\projects\\nlp\\.venv\\lib\\site-packages\\pandas\\core\\arrays\\datetimelike.py:1054\u001b[0m, in \u001b[0;36mDatetimeLikeArrayMixin._cmp_method\u001b[1;34m(self, other, op)\u001b[0m\n\u001b[0;32m   1053\u001b[0m \u001b[38;5;28;01mtry\u001b[39;00m:\n\u001b[1;32m-> 1054\u001b[0m     other \u001b[38;5;241m=\u001b[39m \u001b[38;5;28;43mself\u001b[39;49m\u001b[38;5;241;43m.\u001b[39;49m\u001b[43m_validate_comparison_value\u001b[49m\u001b[43m(\u001b[49m\u001b[43mother\u001b[49m\u001b[43m)\u001b[49m\n\u001b[0;32m   1055\u001b[0m \u001b[38;5;28;01mexcept\u001b[39;00m InvalidComparison:\n",
      "File \u001b[1;32m~\\projects\\nlp\\.venv\\lib\\site-packages\\pandas\\core\\arrays\\datetimelike.py:585\u001b[0m, in \u001b[0;36mDatetimeLikeArrayMixin._validate_comparison_value\u001b[1;34m(self, other)\u001b[0m\n\u001b[0;32m    583\u001b[0m     \u001b[38;5;28;01mexcept\u001b[39;00m (\u001b[38;5;167;01mTypeError\u001b[39;00m, IncompatibleFrequency) \u001b[38;5;28;01mas\u001b[39;00m err:\n\u001b[0;32m    584\u001b[0m         \u001b[38;5;66;03m# e.g. tzawareness mismatch\u001b[39;00m\n\u001b[1;32m--> 585\u001b[0m         \u001b[38;5;28;01mraise\u001b[39;00m InvalidComparison(other) \u001b[38;5;28;01mfrom\u001b[39;00m \u001b[38;5;21;01merr\u001b[39;00m\n\u001b[0;32m    587\u001b[0m \u001b[38;5;28;01melif\u001b[39;00m \u001b[38;5;129;01mnot\u001b[39;00m is_list_like(other):\n",
      "\u001b[1;31mInvalidComparison\u001b[0m: 2024-01-15 00:00:00",
      "\nDuring handling of the above exception, another exception occurred:\n",
      "\u001b[1;31mTypeError\u001b[0m                                 Traceback (most recent call last)",
      "Cell \u001b[1;32mIn[60], line 13\u001b[0m\n\u001b[0;32m     10\u001b[0m         \u001b[38;5;28mprint\u001b[39m(\u001b[38;5;124m'\u001b[39m\u001b[38;5;132;01m{:>8}\u001b[39;00m\u001b[38;5;130;01m\\t\u001b[39;00m\u001b[38;5;124m- no dividends\u001b[39m\u001b[38;5;124m'\u001b[39m\u001b[38;5;241m.\u001b[39mformat(i))             \n\u001b[0;32m     12\u001b[0m \u001b[38;5;66;03m#  match dates in yf_returns (first return data to now)\u001b[39;00m\n\u001b[1;32m---> 13\u001b[0m yf_dividend \u001b[38;5;241m=\u001b[39m yf_dividend[\u001b[43myf_dividend\u001b[49m\u001b[38;5;241;43m.\u001b[39;49m\u001b[43mindex\u001b[49m\u001b[43m \u001b[49m\u001b[38;5;241;43m>\u001b[39;49m\u001b[38;5;241;43m=\u001b[39;49m\u001b[43m \u001b[49m\u001b[43myf_returns\u001b[49m\u001b[38;5;241;43m.\u001b[39;49m\u001b[43mindex\u001b[49m\u001b[43m[\u001b[49m\u001b[38;5;241;43m0\u001b[39;49m\u001b[43m]\u001b[49m]\n\u001b[0;32m     15\u001b[0m \u001b[38;5;66;03m#  print out dividends\u001b[39;00m\n\u001b[0;32m     16\u001b[0m \u001b[38;5;28mprint\u001b[39m(\u001b[38;5;124m\"\u001b[39m\u001b[38;5;130;01m\\n\u001b[39;00m\u001b[38;5;124m\"\u001b[39m,yf_dividend\u001b[38;5;241m.\u001b[39mtail(\u001b[38;5;241m10\u001b[39m))\n",
      "File \u001b[1;32m~\\projects\\nlp\\.venv\\lib\\site-packages\\pandas\\core\\ops\\common.py:72\u001b[0m, in \u001b[0;36m_unpack_zerodim_and_defer.<locals>.new_method\u001b[1;34m(self, other)\u001b[0m\n\u001b[0;32m     68\u001b[0m             \u001b[38;5;28;01mreturn\u001b[39;00m \u001b[38;5;28mNotImplemented\u001b[39m\n\u001b[0;32m     70\u001b[0m other \u001b[38;5;241m=\u001b[39m item_from_zerodim(other)\n\u001b[1;32m---> 72\u001b[0m \u001b[38;5;28;01mreturn\u001b[39;00m \u001b[43mmethod\u001b[49m\u001b[43m(\u001b[49m\u001b[38;5;28;43mself\u001b[39;49m\u001b[43m,\u001b[49m\u001b[43m \u001b[49m\u001b[43mother\u001b[49m\u001b[43m)\u001b[49m\n",
      "File \u001b[1;32m~\\projects\\nlp\\.venv\\lib\\site-packages\\pandas\\core\\arraylike.py:62\u001b[0m, in \u001b[0;36mOpsMixin.__ge__\u001b[1;34m(self, other)\u001b[0m\n\u001b[0;32m     60\u001b[0m \u001b[38;5;129m@unpack_zerodim_and_defer\u001b[39m(\u001b[38;5;124m\"\u001b[39m\u001b[38;5;124m__ge__\u001b[39m\u001b[38;5;124m\"\u001b[39m)\n\u001b[0;32m     61\u001b[0m \u001b[38;5;28;01mdef\u001b[39;00m \u001b[38;5;21m__ge__\u001b[39m(\u001b[38;5;28mself\u001b[39m, other):\n\u001b[1;32m---> 62\u001b[0m     \u001b[38;5;28;01mreturn\u001b[39;00m \u001b[38;5;28;43mself\u001b[39;49m\u001b[38;5;241;43m.\u001b[39;49m\u001b[43m_cmp_method\u001b[49m\u001b[43m(\u001b[49m\u001b[43mother\u001b[49m\u001b[43m,\u001b[49m\u001b[43m \u001b[49m\u001b[43moperator\u001b[49m\u001b[38;5;241;43m.\u001b[39;49m\u001b[43mge\u001b[49m\u001b[43m)\u001b[49m\n",
      "File \u001b[1;32m~\\projects\\nlp\\.venv\\lib\\site-packages\\pandas\\core\\indexes\\base.py:7016\u001b[0m, in \u001b[0;36mIndex._cmp_method\u001b[1;34m(self, other, op)\u001b[0m\n\u001b[0;32m   7013\u001b[0m         result \u001b[38;5;241m=\u001b[39m op(\u001b[38;5;28mself\u001b[39m\u001b[38;5;241m.\u001b[39m_values, other)\n\u001b[0;32m   7015\u001b[0m \u001b[38;5;28;01melif\u001b[39;00m \u001b[38;5;28misinstance\u001b[39m(\u001b[38;5;28mself\u001b[39m\u001b[38;5;241m.\u001b[39m_values, ExtensionArray):\n\u001b[1;32m-> 7016\u001b[0m     result \u001b[38;5;241m=\u001b[39m \u001b[43mop\u001b[49m\u001b[43m(\u001b[49m\u001b[38;5;28;43mself\u001b[39;49m\u001b[38;5;241;43m.\u001b[39;49m\u001b[43m_values\u001b[49m\u001b[43m,\u001b[49m\u001b[43m \u001b[49m\u001b[43mother\u001b[49m\u001b[43m)\u001b[49m\n\u001b[0;32m   7018\u001b[0m \u001b[38;5;28;01melif\u001b[39;00m is_object_dtype(\u001b[38;5;28mself\u001b[39m\u001b[38;5;241m.\u001b[39mdtype) \u001b[38;5;129;01mand\u001b[39;00m \u001b[38;5;129;01mnot\u001b[39;00m \u001b[38;5;28misinstance\u001b[39m(\u001b[38;5;28mself\u001b[39m, ABCMultiIndex):\n\u001b[0;32m   7019\u001b[0m     \u001b[38;5;66;03m# don't pass MultiIndex\u001b[39;00m\n\u001b[0;32m   7020\u001b[0m     \u001b[38;5;28;01mwith\u001b[39;00m np\u001b[38;5;241m.\u001b[39merrstate(\u001b[38;5;28mall\u001b[39m\u001b[38;5;241m=\u001b[39m\u001b[38;5;124m\"\u001b[39m\u001b[38;5;124mignore\u001b[39m\u001b[38;5;124m\"\u001b[39m):\n",
      "File \u001b[1;32m~\\projects\\nlp\\.venv\\lib\\site-packages\\pandas\\core\\ops\\common.py:72\u001b[0m, in \u001b[0;36m_unpack_zerodim_and_defer.<locals>.new_method\u001b[1;34m(self, other)\u001b[0m\n\u001b[0;32m     68\u001b[0m             \u001b[38;5;28;01mreturn\u001b[39;00m \u001b[38;5;28mNotImplemented\u001b[39m\n\u001b[0;32m     70\u001b[0m other \u001b[38;5;241m=\u001b[39m item_from_zerodim(other)\n\u001b[1;32m---> 72\u001b[0m \u001b[38;5;28;01mreturn\u001b[39;00m \u001b[43mmethod\u001b[49m\u001b[43m(\u001b[49m\u001b[38;5;28;43mself\u001b[39;49m\u001b[43m,\u001b[49m\u001b[43m \u001b[49m\u001b[43mother\u001b[49m\u001b[43m)\u001b[49m\n",
      "File \u001b[1;32m~\\projects\\nlp\\.venv\\lib\\site-packages\\pandas\\core\\arraylike.py:62\u001b[0m, in \u001b[0;36mOpsMixin.__ge__\u001b[1;34m(self, other)\u001b[0m\n\u001b[0;32m     60\u001b[0m \u001b[38;5;129m@unpack_zerodim_and_defer\u001b[39m(\u001b[38;5;124m\"\u001b[39m\u001b[38;5;124m__ge__\u001b[39m\u001b[38;5;124m\"\u001b[39m)\n\u001b[0;32m     61\u001b[0m \u001b[38;5;28;01mdef\u001b[39;00m \u001b[38;5;21m__ge__\u001b[39m(\u001b[38;5;28mself\u001b[39m, other):\n\u001b[1;32m---> 62\u001b[0m     \u001b[38;5;28;01mreturn\u001b[39;00m \u001b[38;5;28;43mself\u001b[39;49m\u001b[38;5;241;43m.\u001b[39;49m\u001b[43m_cmp_method\u001b[49m\u001b[43m(\u001b[49m\u001b[43mother\u001b[49m\u001b[43m,\u001b[49m\u001b[43m \u001b[49m\u001b[43moperator\u001b[49m\u001b[38;5;241;43m.\u001b[39;49m\u001b[43mge\u001b[49m\u001b[43m)\u001b[49m\n",
      "File \u001b[1;32m~\\projects\\nlp\\.venv\\lib\\site-packages\\pandas\\core\\arrays\\datetimelike.py:1056\u001b[0m, in \u001b[0;36mDatetimeLikeArrayMixin._cmp_method\u001b[1;34m(self, other, op)\u001b[0m\n\u001b[0;32m   1054\u001b[0m     other \u001b[38;5;241m=\u001b[39m \u001b[38;5;28mself\u001b[39m\u001b[38;5;241m.\u001b[39m_validate_comparison_value(other)\n\u001b[0;32m   1055\u001b[0m \u001b[38;5;28;01mexcept\u001b[39;00m InvalidComparison:\n\u001b[1;32m-> 1056\u001b[0m     \u001b[38;5;28;01mreturn\u001b[39;00m \u001b[43minvalid_comparison\u001b[49m\u001b[43m(\u001b[49m\u001b[38;5;28;43mself\u001b[39;49m\u001b[43m,\u001b[49m\u001b[43m \u001b[49m\u001b[43mother\u001b[49m\u001b[43m,\u001b[49m\u001b[43m \u001b[49m\u001b[43mop\u001b[49m\u001b[43m)\u001b[49m\n\u001b[0;32m   1058\u001b[0m dtype \u001b[38;5;241m=\u001b[39m \u001b[38;5;28mgetattr\u001b[39m(other, \u001b[38;5;124m\"\u001b[39m\u001b[38;5;124mdtype\u001b[39m\u001b[38;5;124m\"\u001b[39m, \u001b[38;5;28;01mNone\u001b[39;00m)\n\u001b[0;32m   1059\u001b[0m \u001b[38;5;28;01mif\u001b[39;00m is_object_dtype(dtype):\n\u001b[0;32m   1060\u001b[0m     \u001b[38;5;66;03m# We have to use comp_method_OBJECT_ARRAY instead of numpy\u001b[39;00m\n\u001b[0;32m   1061\u001b[0m     \u001b[38;5;66;03m#  comparison otherwise it would fail to raise when\u001b[39;00m\n\u001b[0;32m   1062\u001b[0m     \u001b[38;5;66;03m#  comparing tz-aware and tz-naive\u001b[39;00m\n",
      "File \u001b[1;32m~\\projects\\nlp\\.venv\\lib\\site-packages\\pandas\\core\\ops\\invalid.py:36\u001b[0m, in \u001b[0;36minvalid_comparison\u001b[1;34m(left, right, op)\u001b[0m\n\u001b[0;32m     34\u001b[0m \u001b[38;5;28;01melse\u001b[39;00m:\n\u001b[0;32m     35\u001b[0m     typ \u001b[38;5;241m=\u001b[39m \u001b[38;5;28mtype\u001b[39m(right)\u001b[38;5;241m.\u001b[39m\u001b[38;5;18m__name__\u001b[39m\n\u001b[1;32m---> 36\u001b[0m     \u001b[38;5;28;01mraise\u001b[39;00m \u001b[38;5;167;01mTypeError\u001b[39;00m(\u001b[38;5;124mf\u001b[39m\u001b[38;5;124m\"\u001b[39m\u001b[38;5;124mInvalid comparison between dtype=\u001b[39m\u001b[38;5;132;01m{\u001b[39;00mleft\u001b[38;5;241m.\u001b[39mdtype\u001b[38;5;132;01m}\u001b[39;00m\u001b[38;5;124m and \u001b[39m\u001b[38;5;132;01m{\u001b[39;00mtyp\u001b[38;5;132;01m}\u001b[39;00m\u001b[38;5;124m\"\u001b[39m)\n\u001b[0;32m     37\u001b[0m \u001b[38;5;28;01mreturn\u001b[39;00m res_values\n",
      "\u001b[1;31mTypeError\u001b[0m: Invalid comparison between dtype=datetime64[ns, UTC] and Timestamp"
     ]
    }
   ],
   "source": [
    "yf_dividend = pd.DataFrame()   # initialize dataframe\n",
    "\n",
    "for i in ticker_list:\n",
    "    x = pd.DataFrame(yf.Ticker(i).dividends)\n",
    "    x = x.rename(columns={\"Dividends\":i})\n",
    "    yf_dividend = pd.concat([yf_dividend,x], axis=1)\n",
    "    if len(x) > 0:\n",
    "        print('{:>8}\\t- dividends'.format(i))\n",
    "    else:\n",
    "        print('{:>8}\\t- no dividends'.format(i))             \n",
    "\n",
    "#  match dates in yf_returns (first return data to now)\n",
    "yf_dividend = yf_dividend[yf_dividend.index >= yf_returns.index[0]]\n",
    "\n",
    "#  print out dividends\n",
    "print(\"\\n\",yf_dividend.tail(10))"
   ]
  },
  {
   "cell_type": "markdown",
   "id": "d0a1a06d-0d12-45b5-94b0-c803f3cb701d",
   "metadata": {},
   "source": [
    "### check currencies"
   ]
  },
  {
   "cell_type": "code",
   "execution_count": null,
   "id": "8592c77a-78ea-48ed-8b02-167316a730ae",
   "metadata": {},
   "outputs": [],
   "source": [
    "tickers = yf.Tickers(ticker_symbols)"
   ]
  },
  {
   "cell_type": "code",
   "execution_count": 61,
   "id": "50663d86-1921-4564-8021-f1aec4736f00",
   "metadata": {},
   "outputs": [
    {
     "data": {
      "text/plain": [
       "{'maxAge': 86400,\n",
       " 'priceHint': 2,\n",
       " 'previousClose': 601.28,\n",
       " 'open': 601.26,\n",
       " 'dayLow': 601.18,\n",
       " 'dayHigh': 612.26,\n",
       " 'regularMarketPreviousClose': 601.28,\n",
       " 'regularMarketOpen': 601.26,\n",
       " 'regularMarketDayLow': 601.18,\n",
       " 'regularMarketDayHigh': 612.26,\n",
       " 'volume': 45365,\n",
       " 'regularMarketVolume': 45365,\n",
       " 'averageVolume': 74107,\n",
       " 'averageVolume10days': 51701,\n",
       " 'averageDailyVolume10Day': 51701,\n",
       " 'ask': 611.94,\n",
       " 'bidSize': 3200,\n",
       " 'askSize': 4700,\n",
       " 'fiftyTwoWeekLow': 456.78,\n",
       " 'fiftyTwoWeekHigh': 615.6,\n",
       " 'fiftyDayAverage': 604.1156,\n",
       " 'twoHundredDayAverage': 549.3077,\n",
       " 'currency': 'EUR',\n",
       " 'fundFamily': 'BlackRock Asset Management Ireland - ETF',\n",
       " 'fundInceptionDate': 1576022400,\n",
       " 'legalType': 'Exchange Traded Fund',\n",
       " 'exchange': 'GER',\n",
       " 'quoteType': 'ETF',\n",
       " 'symbol': 'SXR8.DE',\n",
       " 'underlyingSymbol': 'SXR8.DE',\n",
       " 'shortName': 'iShs VII-Core S&P 500 U.ETF   R',\n",
       " 'longName': 'iShares Core S&P 500 UCITS ETF USD (Acc)',\n",
       " 'firstTradeDateEpochUtc': 1274252400,\n",
       " 'timeZoneFullName': 'Europe/Berlin',\n",
       " 'timeZoneShortName': 'CET',\n",
       " 'uuid': '4773cf2a-62d4-3b6e-a2ad-a57ec54aa58a',\n",
       " 'messageBoardId': 'finmb_105912893',\n",
       " 'gmtOffSetMilliseconds': 3600000,\n",
       " 'trailingPegRatio': None}"
      ]
     },
     "execution_count": 61,
     "metadata": {},
     "output_type": "execute_result"
    }
   ],
   "source": [
    "tickers.tickers['SXR8.DE'].info"
   ]
  },
  {
   "cell_type": "code",
   "execution_count": 62,
   "id": "bf7a3075-b7ee-4a71-b981-ef58a658fb19",
   "metadata": {},
   "outputs": [
    {
     "data": {
      "text/plain": [
       "{'phone': '+353 1 776 3000',\n",
       " 'maxAge': 86400,\n",
       " 'priceHint': 2,\n",
       " 'previousClose': 67.98,\n",
       " 'open': 67.84,\n",
       " 'dayLow': 67.84,\n",
       " 'dayHigh': 68.95,\n",
       " 'regularMarketPreviousClose': 67.98,\n",
       " 'regularMarketOpen': 67.84,\n",
       " 'regularMarketDayLow': 67.84,\n",
       " 'regularMarketDayHigh': 68.95,\n",
       " 'trailingPE': 0.16081622,\n",
       " 'volume': 2144,\n",
       " 'regularMarketVolume': 2144,\n",
       " 'averageVolume': 9056,\n",
       " 'averageVolume10days': 14348,\n",
       " 'averageDailyVolume10Day': 14348,\n",
       " 'bid': 68.88,\n",
       " 'ask': 68.98,\n",
       " 'totalAssets': 485574816,\n",
       " 'fiftyTwoWeekLow': 54.6595,\n",
       " 'fiftyTwoWeekHigh': 70.6,\n",
       " 'fiftyDayAverage': 68.4052,\n",
       " 'twoHundredDayAverage': 67.902824,\n",
       " 'navPrice': 67.87211,\n",
       " 'currency': 'GBP',\n",
       " 'ytdReturn': -0.0054133,\n",
       " 'beta3Year': 0.98,\n",
       " 'fundFamily': 'State Street Global Advisors Europe Limited',\n",
       " 'fundInceptionDate': 1524700800,\n",
       " 'legalType': 'Exchange Traded Fund',\n",
       " 'threeYearAverageReturn': 0.0504992,\n",
       " 'fiveYearAverageReturn': 0.042945698,\n",
       " 'exchange': 'LSE',\n",
       " 'quoteType': 'ETF',\n",
       " 'symbol': 'FTAL.L',\n",
       " 'underlyingSymbol': 'FTAL.L',\n",
       " 'shortName': 'SSGA SPDR ETFS EUROPE I PLC SPD',\n",
       " 'longName': 'SPDR FTSE UK All Share UCITS ETF Acc',\n",
       " 'firstTradeDateEpochUtc': 1330416000,\n",
       " 'timeZoneFullName': 'Europe/London',\n",
       " 'timeZoneShortName': 'GMT',\n",
       " 'uuid': 'b0abc964-9c12-36ee-a7a3-08bc92770392',\n",
       " 'messageBoardId': 'finmb_170253831',\n",
       " 'trailingPegRatio': None}"
      ]
     },
     "execution_count": 62,
     "metadata": {},
     "output_type": "execute_result"
    }
   ],
   "source": [
    "tickers.tickers['FTAL.L'].info"
   ]
  },
  {
   "cell_type": "code",
   "execution_count": 63,
   "id": "9abbfc35-c0f8-46cd-ad0d-c57642673f83",
   "metadata": {},
   "outputs": [
    {
     "data": {
      "text/plain": [
       "{'maxAge': 86400,\n",
       " 'priceHint': 2,\n",
       " 'previousClose': 20118.0,\n",
       " 'open': 20045.0,\n",
       " 'dayLow': 20045.0,\n",
       " 'dayHigh': 20305.0,\n",
       " 'regularMarketPreviousClose': 20118.0,\n",
       " 'regularMarketOpen': 20045.0,\n",
       " 'regularMarketDayLow': 20045.0,\n",
       " 'regularMarketDayHigh': 20305.0,\n",
       " 'volume': 1983,\n",
       " 'regularMarketVolume': 1983,\n",
       " 'averageVolume': 1238,\n",
       " 'averageVolume10days': 473,\n",
       " 'averageDailyVolume10Day': 473,\n",
       " 'bid': 20267.0,\n",
       " 'ask': 20283.0,\n",
       " 'bidSize': 14400,\n",
       " 'askSize': 514400,\n",
       " 'totalAssets': 52038213632,\n",
       " 'fiftyTwoWeekLow': 16000.0,\n",
       " 'fiftyTwoWeekHigh': 21362.0,\n",
       " 'fiftyDayAverage': 20137.47,\n",
       " 'twoHundredDayAverage': 19759.21,\n",
       " 'navPrice': 39355.52,\n",
       " 'currency': 'GBp',\n",
       " 'fundFamily': 'BlackRock Asset Management Ireland - ETF',\n",
       " 'fundInceptionDate': 1264377600,\n",
       " 'legalType': 'Exchange Traded Fund',\n",
       " 'exchange': 'LSE',\n",
       " 'quoteType': 'ETF',\n",
       " 'symbol': 'CNKY.L',\n",
       " 'underlyingSymbol': 'CNKY.L',\n",
       " 'shortName': 'ISHARES VII PLC ISHRS NIKKEI 22',\n",
       " 'longName': 'iShares VII PLC - iShares Nikkei 225 ETF JPY Acc',\n",
       " 'firstTradeDateEpochUtc': 1264492800,\n",
       " 'timeZoneFullName': 'Europe/London',\n",
       " 'timeZoneShortName': 'GMT',\n",
       " 'uuid': '7a0904d7-b33a-34b6-9830-b47c9d09f882',\n",
       " 'messageBoardId': 'finmb_79177651',\n",
       " 'trailingPegRatio': None}"
      ]
     },
     "execution_count": 63,
     "metadata": {},
     "output_type": "execute_result"
    }
   ],
   "source": [
    "tickers.tickers['CNKY.L'].info"
   ]
  },
  {
   "cell_type": "code",
   "execution_count": 64,
   "id": "0060ad91-8e26-4037-8e2a-2cef0fb8ed9e",
   "metadata": {},
   "outputs": [
    {
     "data": {
      "text/plain": [
       "{'maxAge': 86400,\n",
       " 'priceHint': 2,\n",
       " 'previousClose': 10436.0,\n",
       " 'open': 10460.212,\n",
       " 'dayLow': 10460.212,\n",
       " 'dayHigh': 10560.0,\n",
       " 'regularMarketPreviousClose': 10436.0,\n",
       " 'regularMarketOpen': 10460.212,\n",
       " 'regularMarketDayLow': 10460.212,\n",
       " 'regularMarketDayHigh': 10560.0,\n",
       " 'volume': 902,\n",
       " 'regularMarketVolume': 902,\n",
       " 'averageVolume': 1932,\n",
       " 'averageVolume10days': 1258,\n",
       " 'averageDailyVolume10Day': 1258,\n",
       " 'bid': 10554.0,\n",
       " 'ask': 10558.0,\n",
       " 'totalAssets': 462375008,\n",
       " 'fiftyTwoWeekLow': 9504.864,\n",
       " 'fiftyTwoWeekHigh': 10864.0,\n",
       " 'fiftyDayAverage': 10308.94,\n",
       " 'twoHundredDayAverage': 10478.415,\n",
       " 'currency': 'GBp',\n",
       " 'fundFamily': 'Invesco Investment Management Limited',\n",
       " 'fundInceptionDate': 1238544000,\n",
       " 'legalType': 'Exchange Traded Fund',\n",
       " 'exchange': 'LSE',\n",
       " 'quoteType': 'ETF',\n",
       " 'symbol': 'S600.L',\n",
       " 'underlyingSymbol': 'S600.L',\n",
       " 'shortName': 'INVESCO MARKETS PLC INVESCO STO',\n",
       " 'longName': 'Invesco STOXX Europe 600 UCITS ETF',\n",
       " 'firstTradeDateEpochUtc': 1404370800,\n",
       " 'timeZoneFullName': 'Europe/London',\n",
       " 'timeZoneShortName': 'GMT',\n",
       " 'uuid': 'f2d1ceda-bc80-3863-85cd-20eb6f7b5d76',\n",
       " 'messageBoardId': 'finmb_54825334',\n",
       " 'trailingPegRatio': None}"
      ]
     },
     "execution_count": 64,
     "metadata": {},
     "output_type": "execute_result"
    }
   ],
   "source": [
    "tickers.tickers['S600.L'].info"
   ]
  },
  {
   "cell_type": "code",
   "execution_count": 65,
   "id": "436cdc44-82a6-4389-bd62-3ad9828c6678",
   "metadata": {},
   "outputs": [
    {
     "data": {
      "text/html": [
       "<div>\n",
       "<style scoped>\n",
       "    .dataframe tbody tr th:only-of-type {\n",
       "        vertical-align: middle;\n",
       "    }\n",
       "\n",
       "    .dataframe tbody tr th {\n",
       "        vertical-align: top;\n",
       "    }\n",
       "\n",
       "    .dataframe thead th {\n",
       "        text-align: right;\n",
       "    }\n",
       "</style>\n",
       "<table border=\"1\" class=\"dataframe\">\n",
       "  <thead>\n",
       "    <tr style=\"text-align: right;\">\n",
       "      <th></th>\n",
       "      <th>index</th>\n",
       "      <th>symbol</th>\n",
       "      <th>symbol_name</th>\n",
       "      <th>symbol_type</th>\n",
       "      <th>symbol_name_full</th>\n",
       "      <th>unit</th>\n",
       "      <th>website</th>\n",
       "    </tr>\n",
       "  </thead>\n",
       "  <tbody>\n",
       "    <tr>\n",
       "      <th>0</th>\n",
       "      <td>4</td>\n",
       "      <td>SXR8.DE</td>\n",
       "      <td>S&amp;P500</td>\n",
       "      <td>ETF</td>\n",
       "      <td>iShares Core S&amp;P 500 UCITS ETF USD (Acc)</td>\n",
       "      <td>EUR</td>\n",
       "      <td>NaN</td>\n",
       "    </tr>\n",
       "    <tr>\n",
       "      <th>1</th>\n",
       "      <td>12</td>\n",
       "      <td>FTAL.L</td>\n",
       "      <td>FTSE all-share</td>\n",
       "      <td>ETF</td>\n",
       "      <td>SPDR FTSE UK All Share UCITS ETF Acc</td>\n",
       "      <td>GBP</td>\n",
       "      <td>NaN</td>\n",
       "    </tr>\n",
       "    <tr>\n",
       "      <th>2</th>\n",
       "      <td>15</td>\n",
       "      <td>CNKY.L</td>\n",
       "      <td>Nikkei 225</td>\n",
       "      <td>ETF</td>\n",
       "      <td>iShares VII PLC - iShares Nikkei 225 ETF JPY Acc</td>\n",
       "      <td>GBP</td>\n",
       "      <td>NaN</td>\n",
       "    </tr>\n",
       "    <tr>\n",
       "      <th>3</th>\n",
       "      <td>17</td>\n",
       "      <td>S600.L</td>\n",
       "      <td>Stoxx 600</td>\n",
       "      <td>ETF</td>\n",
       "      <td>Invesco ETF (S600.L)</td>\n",
       "      <td>GBP</td>\n",
       "      <td>https://stoxx.com/index/sxxp/</td>\n",
       "    </tr>\n",
       "  </tbody>\n",
       "</table>\n",
       "</div>"
      ],
      "text/plain": [
       "   index   symbol     symbol_name symbol_type  \\\n",
       "0      4  SXR8.DE          S&P500         ETF   \n",
       "1     12   FTAL.L  FTSE all-share         ETF   \n",
       "2     15   CNKY.L      Nikkei 225         ETF   \n",
       "3     17   S600.L       Stoxx 600         ETF   \n",
       "\n",
       "                                   symbol_name_full unit  \\\n",
       "0          iShares Core S&P 500 UCITS ETF USD (Acc)  EUR   \n",
       "1              SPDR FTSE UK All Share UCITS ETF Acc  GBP   \n",
       "2  iShares VII PLC - iShares Nikkei 225 ETF JPY Acc  GBP   \n",
       "3                              Invesco ETF (S600.L)  GBP   \n",
       "\n",
       "                         website  \n",
       "0                            NaN  \n",
       "1                            NaN  \n",
       "2                            NaN  \n",
       "3  https://stoxx.com/index/sxxp/  "
      ]
     },
     "execution_count": 65,
     "metadata": {},
     "output_type": "execute_result"
    }
   ],
   "source": [
    "ticker_info_df"
   ]
  },
  {
   "cell_type": "markdown",
   "id": "0d2e958d-fd37-4af3-a77f-d25b4fe8c700",
   "metadata": {},
   "source": [
    "### correlation"
   ]
  },
  {
   "cell_type": "code",
   "execution_count": 66,
   "id": "f38b6a31-c2c6-47e7-b9a6-d29b60b94558",
   "metadata": {},
   "outputs": [],
   "source": [
    "### fit curves"
   ]
  },
  {
   "cell_type": "code",
   "execution_count": 67,
   "id": "af215323-01f9-41f8-92fc-47528023ee10",
   "metadata": {},
   "outputs": [
    {
     "data": {
      "text/plain": [
       "Text(0.5, 1.0, 'daily % returns 10yrs')"
      ]
     },
     "execution_count": 67,
     "metadata": {},
     "output_type": "execute_result"
    },
    {
     "data": {
      "image/png": "[encoded data removed]",
      "text/plain": [
       "<Figure size 640x480 with 1 Axes>"
      ]
     },
     "metadata": {},
     "output_type": "display_data"
    }
   ],
   "source": [
    "import matplotlib.pyplot as plt\n",
    "import numpy as np\n",
    "plt.hist(yf_returns_df,bins=100)\n",
    "plt.xlabel('daily_return %')\n",
    "plt.ylabel('frequency')\n",
    "plt.title('daily % returns 10yrs')"
   ]
  },
  {
   "cell_type": "code",
   "execution_count": 69,
   "id": "a6f7c255-cfaf-4b22-9ee9-9dc953ecb9a9",
   "metadata": {},
   "outputs": [
    {
     "data": {
      "text/plain": [
       "Ticker\n",
       "CNKY.L     0.023326\n",
       "FTAL.L     0.047204\n",
       "SXR8.DE    0.115695\n",
       "S600.L     0.036375\n",
       "dtype: float64"
      ]
     },
     "execution_count": 69,
     "metadata": {},
     "output_type": "execute_result"
    }
   ],
   "source": [
    "yf_returns_df.mean()"
   ]
  },
  {
   "cell_type": "code",
   "execution_count": null,
   "id": "397d5e17-eb65-4b67-835a-a6398ac3b73e",
   "metadata": {},
   "outputs": [],
   "source": []
  },
  {
   "cell_type": "code",
   "execution_count": null,
   "id": "a9054aaf-fe36-4340-90b3-b109fc0084fa",
   "metadata": {},
   "outputs": [],
   "source": []
  }
 ],
 "metadata": {
  "kernelspec": {
   "display_name": "nlp",
   "language": "python",
   "name": "nlp"
  },
  "language_info": {
   "codemirror_mode": {
    "name": "ipython",
    "version": 3
   },
   "file_extension": ".py",
   "mimetype": "text/x-python",
   "name": "python",
   "nbconvert_exporter": "python",
   "pygments_lexer": "ipython3",
   "version": "3.9.13"
  }
 },
 "nbformat": 4,
 "nbformat_minor": 5
}
