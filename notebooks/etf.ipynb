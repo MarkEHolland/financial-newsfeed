{
 "cells": [
  {
   "cell_type": "code",
   "execution_count": 1,
   "id": "80a51f8b-efd3-41a7-a6e7-26b2c1c81fac",
   "metadata": {},
   "outputs": [],
   "source": [
    "import yfinance as yf\n",
    "import pandas as pd\n",
    "import numpy as np\n",
    "import matplotlib.pyplot as plt\n",
    "import seaborn as sns"
   ]
  },
  {
   "cell_type": "code",
   "execution_count": 2,
   "id": "e04380b5-b9d6-47bd-be9c-0ea36ea3b592",
   "metadata": {},
   "outputs": [],
   "source": [
    "# Importing libraries for portfolio optimization\n",
    "from pypfopt.efficient_frontier import EfficientFrontier\n",
    "from pypfopt import risk_models\n",
    "from pypfopt import expected_returns"
   ]
  },
  {
   "cell_type": "code",
   "execution_count": 3,
   "id": "72bc808e-72ac-48d8-819b-942223a347a3",
   "metadata": {},
   "outputs": [],
   "source": [
    "from scipy.optimize import minimize"
   ]
  },
  {
   "cell_type": "code",
   "execution_count": 4,
   "id": "0fc08d3b-8b5c-479b-a988-c97aa6abb1f0",
   "metadata": {},
   "outputs": [],
   "source": [
    "from distfit import distfit"
   ]
  },
  {
   "cell_type": "code",
   "execution_count": 5,
   "id": "44be373d-bff3-4910-915c-72ddaf3d0d81",
   "metadata": {},
   "outputs": [
    {
     "name": "stdout",
     "output_type": "stream",
     "text": [
      "Python 3.10.13\n"
     ]
    }
   ],
   "source": [
    "!python -V"
   ]
  },
  {
   "cell_type": "code",
   "execution_count": 6,
   "id": "eb412e63-027a-4729-9fe1-9f810679a06b",
   "metadata": {},
   "outputs": [
    {
     "name": "stdout",
     "output_type": "stream",
     "text": [
      "Package                      Version        Editable project location\n",
      "---------------------------- -------------- ---------------------------\n",
      "absl-py                      2.1.0\n",
      "accelerate                   0.26.0\n",
      "aiohappyeyeballs             2.4.3\n",
      "aiohttp                      3.11.8\n",
      "aiosignal                    1.3.1\n",
      "arrow                        1.3.0\n",
      "asttokens                    2.4.1\n",
      "astunparse                   1.6.3\n",
      "async-timeout                5.0.1\n",
      "attrs                        24.2.0\n",
      "beautifulsoup4               4.11.1\n",
      "blis                         0.7.11\n",
      "boto3                        1.35.71\n",
      "botocore                     1.35.71\n",
      "cachetools                   5.5.0\n",
      "catalogue                    2.0.10\n",
      "certifi                      2024.8.30\n",
      "cffi                         1.17.1\n",
      "charset-normalizer           3.4.0\n",
      "clarabel                     0.9.0\n",
      "click                        7.1.2\n",
      "colorama                     0.4.6\n",
      "coloredlogs                  15.0.1\n",
      "colourmap                    1.1.19\n",
      "comm                         0.2.2\n",
      "contourpy                    1.3.0\n",
      "cvxpy                        1.6.0\n",
      "cycler                       0.12.1\n",
      "cymem                        2.0.10\n",
      "datasets                     3.1.0\n",
      "debugpy                      1.8.9\n",
      "decorator                    5.1.1\n",
      "dill                         0.3.8\n",
      "distfit                      1.8.0\n",
      "ecos                         2.0.14\n",
      "en_core_web_sm               3.0.0\n",
      "exceptiongroup               1.2.2\n",
      "executing                    2.1.0\n",
      "filelock                     3.16.1\n",
      "flatbuffers                  24.3.25\n",
      "fonttools                    4.55.0\n",
      "fqdn                         1.5.1\n",
      "frozendict                   2.4.6\n",
      "frozenlist                   1.5.0\n",
      "fsspec                       2024.9.0\n",
      "gast                         0.4.0\n",
      "google-auth                  2.36.0\n",
      "google-auth-oauthlib         0.4.6\n",
      "google-pasta                 0.2.0\n",
      "grpcio                       1.68.0\n",
      "h5py                         3.12.1\n",
      "html5lib                     1.1\n",
      "huggingface-hub              0.26.2\n",
      "humanfriendly                10.0\n",
      "idna                         3.10\n",
      "importlib_metadata           8.5.0\n",
      "importlib_resources          6.4.5\n",
      "ipykernel                    6.29.5\n",
      "ipython                      8.18.1\n",
      "ipywidgets                   8.1.5\n",
      "isoduration                  20.11.0\n",
      "jedi                         0.19.2\n",
      "Jinja2                       3.1.4\n",
      "jmespath                     1.0.1\n",
      "joblib                       1.4.2\n",
      "jsonpointer                  3.0.0\n",
      "jsonschema                   4.23.0\n",
      "jsonschema-specifications    2024.10.1\n",
      "jupyter_client               8.6.3\n",
      "jupyter_core                 5.7.2\n",
      "jupyter-events               0.9.1\n",
      "jupyterlab_widgets           3.0.13\n",
      "keras                        2.10.0\n",
      "Keras-Preprocessing          1.1.2\n",
      "kiwisolver                   1.4.7\n",
      "libclang                     18.1.1\n",
      "lxml                         5.3.0\n",
      "Markdown                     3.7\n",
      "MarkupSafe                   3.0.2\n",
      "matplotlib                   3.9.2\n",
      "matplotlib-inline            0.1.7\n",
      "mplfinance                   0.12.10b0\n",
      "mpmath                       1.3.0\n",
      "multidict                    6.1.0\n",
      "multiprocess                 0.70.16\n",
      "multitasking                 0.0.11\n",
      "murmurhash                   1.0.11\n",
      "nest-asyncio                 1.6.0\n",
      "networkx                     3.2.1\n",
      "nlp                          0.1.0          C:\\Users\\marke\\projects\\nlp\n",
      "nltk                         3.7\n",
      "numpy                        1.26.0\n",
      "oauthlib                     3.2.2\n",
      "onnxruntime                  1.14.0\n",
      "opt_einsum                   3.4.0\n",
      "osqp                         0.6.7.post3\n",
      "packaging                    24.2\n",
      "pandas                       1.5.1\n",
      "parso                        0.8.4\n",
      "pathlib_abc                  0.1.1\n",
      "pathy                        0.11.0\n",
      "patsy                        1.0.1\n",
      "peewee                       3.17.8\n",
      "pillow                       11.0.0\n",
      "pip                          24.2\n",
      "platformdirs                 4.3.6\n",
      "plotly                       5.24.1\n",
      "preshed                      3.0.9\n",
      "prompt_toolkit               3.0.48\n",
      "propcache                    0.2.0\n",
      "protobuf                     3.19.6\n",
      "psutil                       6.1.0\n",
      "pure_eval                    0.2.3\n",
      "pyarrow                      18.1.0\n",
      "pyasn1                       0.6.1\n",
      "pyasn1_modules               0.4.1\n",
      "pycparser                    2.22\n",
      "pydantic                     1.7.4\n",
      "Pygments                     2.18.0\n",
      "pyparsing                    3.2.0\n",
      "pypickle                     1.1.0\n",
      "pyportfolioopt               1.5.6\n",
      "pyreadline3                  3.5.4\n",
      "python-dateutil              2.9.0.post0\n",
      "python-json-logger           2.0.7\n",
      "pytorch-nlp                  0.5.0\n",
      "pytorch-pretrained-bert      0.6.2\n",
      "pytorch-transformers         1.2.0\n",
      "pytz                         2024.2\n",
      "pywin32                      308\n",
      "PyYAML                       6.0.2\n",
      "pyzmq                        26.2.0\n",
      "qdldl                        0.1.7.post5\n",
      "referencing                  0.35.1\n",
      "regex                        2024.11.6\n",
      "requests                     2.32.2\n",
      "requests-oauthlib            2.0.0\n",
      "rfc3339-validator            0.1.4\n",
      "rfc3986-validator            0.1.1\n",
      "rpds-py                      0.21.0\n",
      "rsa                          4.9\n",
      "s3transfer                   0.10.4\n",
      "sacremoses                   0.1.1\n",
      "safetensors                  0.4.5\n",
      "scikit-learn                 0.24.0\n",
      "scipy                        1.13.0\n",
      "scs                          3.2.7.post2\n",
      "seaborn                      0.13.2\n",
      "sentencepiece                0.2.0\n",
      "setuptools                   75.6.0\n",
      "six                          1.12.0\n",
      "smart-open                   6.4.0\n",
      "soupsieve                    2.6\n",
      "spacy                        3.0.0\n",
      "spacy-legacy                 3.0.12\n",
      "srsly                        2.5.0\n",
      "stack-data                   0.6.3\n",
      "statsmodels                  0.14.4\n",
      "sympy                        1.13.1\n",
      "tenacity                     9.0.0\n",
      "tensorboard                  2.10.1\n",
      "tensorboard-data-server      0.6.1\n",
      "tensorboard-plugin-wit       1.8.1\n",
      "tensorflow                   2.10.0\n",
      "tensorflow-estimator         2.10.0\n",
      "tensorflow-io                0.27.0\n",
      "tensorflow-io-gcs-filesystem 0.27.0\n",
      "termcolor                    2.5.0\n",
      "thinc                        8.0.17\n",
      "threadpoolctl                3.5.0\n",
      "tokenizers                   0.20.3\n",
      "torch                        2.5.1\n",
      "torchaudio                   2.5.1\n",
      "torchvision                  0.20.1\n",
      "tornado                      6.4.2\n",
      "tqdm                         4.66.3\n",
      "traitlets                    5.14.3\n",
      "transformers                 4.46.3\n",
      "typer                        0.3.2\n",
      "types-python-dateutil        2.9.0.20241003\n",
      "typing_extensions            4.12.2\n",
      "uri-template                 1.3.0\n",
      "urllib3                      1.26.20\n",
      "wasabi                       0.10.1\n",
      "wcwidth                      0.2.13\n",
      "webcolors                    24.11.1\n",
      "webencodings                 0.5.1\n",
      "Werkzeug                     3.1.3\n",
      "wget                         3.2\n",
      "wheel                        0.45.1\n",
      "widgetsnbextension           4.0.13\n",
      "wrapt                        1.17.0\n",
      "xxhash                       3.5.0\n",
      "yarl                         1.18.0\n",
      "yfinance                     0.2.51\n",
      "zipp                         3.21.0\n",
      "Note: you may need to restart the kernel to use updated packages.\n"
     ]
    }
   ],
   "source": [
    "%pip list"
   ]
  },
  {
   "cell_type": "markdown",
   "id": "3f6a9494-0f2a-43f1-964b-966e06276238",
   "metadata": {},
   "source": [
    "### investments tickers"
   ]
  },
  {
   "cell_type": "code",
   "execution_count": 7,
   "id": "8dd363c2-6d9c-4f9a-aeee-5da3043af4f0",
   "metadata": {},
   "outputs": [],
   "source": [
    "symbol_type = \"ETF\""
   ]
  },
  {
   "cell_type": "code",
   "execution_count": 8,
   "id": "7f41dc24-fca9-4a6a-9069-258d836530a1",
   "metadata": {},
   "outputs": [],
   "source": [
    "yf_market_info  = pd.read_csv('../data/market_info.csv')"
   ]
  },
  {
   "cell_type": "code",
   "execution_count": 9,
   "id": "e95d1707-aad7-479a-8864-1e2d26f1e4d4",
   "metadata": {},
   "outputs": [],
   "source": [
    "ticker_info_df = yf_market_info[yf_market_info.symbol_type==symbol_type].reset_index()\n",
    "ticker_list = list(ticker_info_df.symbol)\n",
    "ticker_name = list(ticker_info_df.symbol_name)\n",
    "ticker_currency = list(ticker_info_df.unit)\n",
    "ticker_dict = dict(map(lambda i,j : (i,j) , ticker_list,ticker_name))\n",
    "ticker_currency_dict = dict(map(lambda i,j : (i,j) , ticker_list,ticker_currency))"
   ]
  },
  {
   "cell_type": "code",
   "execution_count": 10,
   "id": "5ef16a6b-140d-44c1-a304-d428c4ae1275",
   "metadata": {},
   "outputs": [
    {
     "data": {
      "text/plain": [
       "{'SPXP.L': 'SP500',\n",
       " 'FTAL.L': 'FTSEALL',\n",
       " 'CNKY.L': 'NIKKEI225',\n",
       " 'S600.L': 'STOXX600',\n",
       " 'C300.L': 'CHINA300',\n",
       " 'HMAF.L': 'ASIA',\n",
       " 'FLXI.L': 'INDIA',\n",
       " 'FVUB.L': 'BRAZIL',\n",
       " 'USDGBP=X': 'US dollar ex rate'}"
      ]
     },
     "execution_count": 10,
     "metadata": {},
     "output_type": "execute_result"
    }
   ],
   "source": [
    "ticker_dict"
   ]
  },
  {
   "cell_type": "code",
   "execution_count": 11,
   "id": "29d59ba2-3874-4ae6-a219-c26aa2885a15",
   "metadata": {},
   "outputs": [
    {
     "data": {
      "text/plain": [
       "{'SPXP.L': 'GBP',\n",
       " 'FTAL.L': 'GBP',\n",
       " 'CNKY.L': 'GBP',\n",
       " 'S600.L': 'GBP',\n",
       " 'C300.L': 'USD',\n",
       " 'HMAF.L': 'GBP',\n",
       " 'FLXI.L': 'USD',\n",
       " 'FVUB.L': 'GBP',\n",
       " 'USDGBP=X': 'USD'}"
      ]
     },
     "execution_count": 11,
     "metadata": {},
     "output_type": "execute_result"
    }
   ],
   "source": [
    "ticker_currency_dict"
   ]
  },
  {
   "cell_type": "code",
   "execution_count": 12,
   "id": "c26ce766-8c83-42f1-b389-4aacc28d66d8",
   "metadata": {},
   "outputs": [
    {
     "data": {
      "text/plain": [
       "'SPXP.L FTAL.L CNKY.L S600.L C300.L HMAF.L FLXI.L FVUB.L USDGBP=X'"
      ]
     },
     "execution_count": 12,
     "metadata": {},
     "output_type": "execute_result"
    }
   ],
   "source": [
    "ticker_symbols  = \" \".join(ticker_list)\n",
    "ticker_symbols"
   ]
  },
  {
   "cell_type": "code",
   "execution_count": 13,
   "id": "c4975b90-af6e-4ce7-9ca7-a1efa65efd88",
   "metadata": {},
   "outputs": [],
   "source": [
    "#ticker_symbols = ticker_symbols + \" EURGBP=X\""
   ]
  },
  {
   "cell_type": "code",
   "execution_count": 14,
   "id": "f0f4ab78-c2fc-4c45-ad87-e8f4a2ae9769",
   "metadata": {},
   "outputs": [
    {
     "name": "stderr",
     "output_type": "stream",
     "text": [
      "[*********************100%***********************]  9 of 9 completed\n"
     ]
    },
    {
     "data": {
      "text/html": [
       "<div>\n",
       "<style scoped>\n",
       "    .dataframe tbody tr th:only-of-type {\n",
       "        vertical-align: middle;\n",
       "    }\n",
       "\n",
       "    .dataframe tbody tr th {\n",
       "        vertical-align: top;\n",
       "    }\n",
       "\n",
       "    .dataframe thead tr th {\n",
       "        text-align: left;\n",
       "    }\n",
       "\n",
       "    .dataframe thead tr:last-of-type th {\n",
       "        text-align: right;\n",
       "    }\n",
       "</style>\n",
       "<table border=\"1\" class=\"dataframe\">\n",
       "  <thead>\n",
       "    <tr>\n",
       "      <th>Price</th>\n",
       "      <th colspan=\"9\" halign=\"left\">Close</th>\n",
       "      <th>High</th>\n",
       "      <th>...</th>\n",
       "      <th>Open</th>\n",
       "      <th colspan=\"9\" halign=\"left\">Volume</th>\n",
       "    </tr>\n",
       "    <tr>\n",
       "      <th>Ticker</th>\n",
       "      <th>C300.L</th>\n",
       "      <th>CNKY.L</th>\n",
       "      <th>FLXI.L</th>\n",
       "      <th>FTAL.L</th>\n",
       "      <th>FVUB.L</th>\n",
       "      <th>HMAF.L</th>\n",
       "      <th>S600.L</th>\n",
       "      <th>SPXP.L</th>\n",
       "      <th>USDGBP=X</th>\n",
       "      <th>C300.L</th>\n",
       "      <th>...</th>\n",
       "      <th>USDGBP=X</th>\n",
       "      <th>C300.L</th>\n",
       "      <th>CNKY.L</th>\n",
       "      <th>FLXI.L</th>\n",
       "      <th>FTAL.L</th>\n",
       "      <th>FVUB.L</th>\n",
       "      <th>HMAF.L</th>\n",
       "      <th>S600.L</th>\n",
       "      <th>SPXP.L</th>\n",
       "      <th>USDGBP=X</th>\n",
       "    </tr>\n",
       "    <tr>\n",
       "      <th>Date</th>\n",
       "      <th></th>\n",
       "      <th></th>\n",
       "      <th></th>\n",
       "      <th></th>\n",
       "      <th></th>\n",
       "      <th></th>\n",
       "      <th></th>\n",
       "      <th></th>\n",
       "      <th></th>\n",
       "      <th></th>\n",
       "      <th></th>\n",
       "      <th></th>\n",
       "      <th></th>\n",
       "      <th></th>\n",
       "      <th></th>\n",
       "      <th></th>\n",
       "      <th></th>\n",
       "      <th></th>\n",
       "      <th></th>\n",
       "      <th></th>\n",
       "      <th></th>\n",
       "    </tr>\n",
       "  </thead>\n",
       "  <tbody>\n",
       "    <tr>\n",
       "      <th>2024-01-22</th>\n",
       "      <td>3.9805</td>\n",
       "      <td>19376.0</td>\n",
       "      <td>40.587502</td>\n",
       "      <td>60.610001</td>\n",
       "      <td>20.785000</td>\n",
       "      <td>32.314999</td>\n",
       "      <td>9602.0</td>\n",
       "      <td>74346.5</td>\n",
       "      <td>0.78741</td>\n",
       "      <td>3.9805</td>\n",
       "      <td>...</td>\n",
       "      <td>0.78735</td>\n",
       "      <td>0.0</td>\n",
       "      <td>18244.0</td>\n",
       "      <td>21504.0</td>\n",
       "      <td>5082.0</td>\n",
       "      <td>1355.0</td>\n",
       "      <td>111.0</td>\n",
       "      <td>317.0</td>\n",
       "      <td>979.0</td>\n",
       "      <td>0</td>\n",
       "    </tr>\n",
       "    <tr>\n",
       "      <th>2024-01-23</th>\n",
       "      <td>4.0370</td>\n",
       "      <td>19237.0</td>\n",
       "      <td>39.430000</td>\n",
       "      <td>60.575001</td>\n",
       "      <td>20.915001</td>\n",
       "      <td>32.939999</td>\n",
       "      <td>9566.0</td>\n",
       "      <td>74488.5</td>\n",
       "      <td>0.78697</td>\n",
       "      <td>4.0270</td>\n",
       "      <td>...</td>\n",
       "      <td>0.78689</td>\n",
       "      <td>300.0</td>\n",
       "      <td>563.0</td>\n",
       "      <td>20304.0</td>\n",
       "      <td>5069.0</td>\n",
       "      <td>2820.0</td>\n",
       "      <td>7922.0</td>\n",
       "      <td>570.0</td>\n",
       "      <td>1662.0</td>\n",
       "      <td>0</td>\n",
       "    </tr>\n",
       "    <tr>\n",
       "      <th>2024-01-24</th>\n",
       "      <td>4.1520</td>\n",
       "      <td>19220.0</td>\n",
       "      <td>40.132500</td>\n",
       "      <td>60.930000</td>\n",
       "      <td>21.209999</td>\n",
       "      <td>33.455002</td>\n",
       "      <td>9678.0</td>\n",
       "      <td>74769.5</td>\n",
       "      <td>0.78790</td>\n",
       "      <td>4.1520</td>\n",
       "      <td>...</td>\n",
       "      <td>0.78776</td>\n",
       "      <td>0.0</td>\n",
       "      <td>3701.0</td>\n",
       "      <td>26709.0</td>\n",
       "      <td>15558.0</td>\n",
       "      <td>94.0</td>\n",
       "      <td>4071.0</td>\n",
       "      <td>41.0</td>\n",
       "      <td>818.0</td>\n",
       "      <td>0</td>\n",
       "    </tr>\n",
       "    <tr>\n",
       "      <th>2024-01-25</th>\n",
       "      <td>4.1165</td>\n",
       "      <td>19141.0</td>\n",
       "      <td>40.014999</td>\n",
       "      <td>60.924999</td>\n",
       "      <td>21.270000</td>\n",
       "      <td>33.430000</td>\n",
       "      <td>9676.5</td>\n",
       "      <td>75027.5</td>\n",
       "      <td>0.78624</td>\n",
       "      <td>4.1070</td>\n",
       "      <td>...</td>\n",
       "      <td>0.78626</td>\n",
       "      <td>1.0</td>\n",
       "      <td>204.0</td>\n",
       "      <td>16145.0</td>\n",
       "      <td>5899.0</td>\n",
       "      <td>127.0</td>\n",
       "      <td>2113.0</td>\n",
       "      <td>951.0</td>\n",
       "      <td>1011.0</td>\n",
       "      <td>0</td>\n",
       "    </tr>\n",
       "    <tr>\n",
       "      <th>2024-01-26</th>\n",
       "      <td>4.1355</td>\n",
       "      <td>19041.0</td>\n",
       "      <td>40.064999</td>\n",
       "      <td>61.724998</td>\n",
       "      <td>21.325001</td>\n",
       "      <td>33.419998</td>\n",
       "      <td>9801.0</td>\n",
       "      <td>75044.0</td>\n",
       "      <td>0.78689</td>\n",
       "      <td>4.1360</td>\n",
       "      <td>...</td>\n",
       "      <td>0.78697</td>\n",
       "      <td>182.0</td>\n",
       "      <td>2445.0</td>\n",
       "      <td>30807.0</td>\n",
       "      <td>2642.0</td>\n",
       "      <td>761.0</td>\n",
       "      <td>1540.0</td>\n",
       "      <td>0.0</td>\n",
       "      <td>897.0</td>\n",
       "      <td>0</td>\n",
       "    </tr>\n",
       "  </tbody>\n",
       "</table>\n",
       "<p>5 rows × 45 columns</p>\n",
       "</div>"
      ],
      "text/plain": [
       "Price        Close                                                       \\\n",
       "Ticker      C300.L   CNKY.L     FLXI.L     FTAL.L     FVUB.L     HMAF.L   \n",
       "Date                                                                      \n",
       "2024-01-22  3.9805  19376.0  40.587502  60.610001  20.785000  32.314999   \n",
       "2024-01-23  4.0370  19237.0  39.430000  60.575001  20.915001  32.939999   \n",
       "2024-01-24  4.1520  19220.0  40.132500  60.930000  21.209999  33.455002   \n",
       "2024-01-25  4.1165  19141.0  40.014999  60.924999  21.270000  33.430000   \n",
       "2024-01-26  4.1355  19041.0  40.064999  61.724998  21.325001  33.419998   \n",
       "\n",
       "Price                                   High  ...     Open Volume           \\\n",
       "Ticker      S600.L   SPXP.L USDGBP=X  C300.L  ... USDGBP=X C300.L   CNKY.L   \n",
       "Date                                          ...                            \n",
       "2024-01-22  9602.0  74346.5  0.78741  3.9805  ...  0.78735    0.0  18244.0   \n",
       "2024-01-23  9566.0  74488.5  0.78697  4.0270  ...  0.78689  300.0    563.0   \n",
       "2024-01-24  9678.0  74769.5  0.78790  4.1520  ...  0.78776    0.0   3701.0   \n",
       "2024-01-25  9676.5  75027.5  0.78624  4.1070  ...  0.78626    1.0    204.0   \n",
       "2024-01-26  9801.0  75044.0  0.78689  4.1360  ...  0.78697  182.0   2445.0   \n",
       "\n",
       "Price                                                                 \n",
       "Ticker       FLXI.L   FTAL.L  FVUB.L  HMAF.L S600.L  SPXP.L USDGBP=X  \n",
       "Date                                                                  \n",
       "2024-01-22  21504.0   5082.0  1355.0   111.0  317.0   979.0        0  \n",
       "2024-01-23  20304.0   5069.0  2820.0  7922.0  570.0  1662.0        0  \n",
       "2024-01-24  26709.0  15558.0    94.0  4071.0   41.0   818.0        0  \n",
       "2024-01-25  16145.0   5899.0   127.0  2113.0  951.0  1011.0        0  \n",
       "2024-01-26  30807.0   2642.0   761.0  1540.0    0.0   897.0        0  \n",
       "\n",
       "[5 rows x 45 columns]"
      ]
     },
     "execution_count": 14,
     "metadata": {},
     "output_type": "execute_result"
    }
   ],
   "source": [
    "data = yf.download(ticker_symbols, period='1y')\n",
    "data.head(5)"
   ]
  },
  {
   "cell_type": "code",
   "execution_count": 15,
   "id": "7fbb42ed-699c-45aa-ae85-44b2dd59bd86",
   "metadata": {},
   "outputs": [],
   "source": [
    "# forward fill exchange rate\n",
    "#data['USDGBP=X'] = data['USDGBP=X'].ffill()"
   ]
  },
  {
   "cell_type": "markdown",
   "id": "83616767-666b-455a-a27d-478f0de9e294",
   "metadata": {},
   "source": [
    "### returns"
   ]
  },
  {
   "cell_type": "code",
   "execution_count": 16,
   "id": "c248051c-88da-41f2-940f-5ece98ae195b",
   "metadata": {},
   "outputs": [],
   "source": [
    "# some funds have just 5 year history - so ok for upto 2 years\n",
    "yf_period = \"1y\" # ['1d', '5d', '1mo', '3mo', '6mo', '1y', '2y', '5y', '10y', 'ytd', 'max']\n",
    "yf_interval = \"1d\""
   ]
  },
  {
   "cell_type": "code",
   "execution_count": 17,
   "id": "4c1216fb-9ff2-4acf-9bb8-8a8a4a9326b7",
   "metadata": {},
   "outputs": [
    {
     "name": "stderr",
     "output_type": "stream",
     "text": [
      "[*********************100%***********************]  9 of 9 completed\n"
     ]
    }
   ],
   "source": [
    "#  1.  Create dataframe yf_price with yf.download\n",
    "yf_df = yf.download(\n",
    "        tickers = ticker_symbols,       # tickers list or string as well\n",
    "        period = yf_period,      # optional, default is '1mo'\n",
    "        interval = yf_interval,  # fetch data by intervaal\n",
    "        group_by = 'ticker',     # group by ticker\n",
    "        auto_adjust = True,      # adjust all OHLC (open-high-low-close)\n",
    "        prepost = True,          # download market hours data\n",
    "        threads = True,          # threads for mass downloading\n",
    "        proxy = None)            # proxy\n",
    "\n",
    "#  2.  Select 'Close' (price at market close) column only\n",
    "yf_df = yf_df.iloc[:, yf_df.columns.get_level_values(1)=='Close']\n",
    "\n",
    "#  3.  Remove the dataframe multi-index\n",
    "yf_df.columns = yf_df.columns.droplevel(1)  # multi-index"
   ]
  },
  {
   "cell_type": "markdown",
   "id": "db2047db-8a53-4818-83d5-0340e4a01e2d",
   "metadata": {},
   "source": [
    "### forward fill exchange rate"
   ]
  },
  {
   "cell_type": "code",
   "execution_count": 18,
   "id": "240ebce0-e91f-4a6f-af26-27a95799ba33",
   "metadata": {},
   "outputs": [],
   "source": [
    "# forward fill exchange rate\n",
    "yf_df['USDGBP=X'] = yf_df['USDGBP=X'].ffill()"
   ]
  },
  {
   "cell_type": "markdown",
   "id": "cfc9baf4-cdf7-490b-a0f9-53692dc0f32a",
   "metadata": {},
   "source": [
    "### convert USD ETF's to GBP"
   ]
  },
  {
   "cell_type": "code",
   "execution_count": 19,
   "id": "9e4a3ae0-4126-43c1-af40-eac82fb79b7c",
   "metadata": {},
   "outputs": [],
   "source": [
    "for i in ticker_currency_dict:\n",
    "    if ticker_currency_dict[i]== 'USD':\n",
    "        # convert column\n",
    "        yf_df[i] = yf_df[i].multiply(yf_df[\"USDGBP=X\"], axis=\"index\")"
   ]
  },
  {
   "cell_type": "code",
   "execution_count": 20,
   "id": "4d75141c-3131-4b6b-9b15-8ff4c93b4a62",
   "metadata": {},
   "outputs": [],
   "source": [
    "yf_name_df = yf_df.rename(columns=ticker_dict)"
   ]
  },
  {
   "cell_type": "code",
   "execution_count": 21,
   "id": "d682c0e3-2a6c-4e39-ac3a-2411260c0e2e",
   "metadata": {},
   "outputs": [
    {
     "data": {
      "text/plain": [
       "Ticker\n",
       "US dollar ex rate    0\n",
       "CHINA300             8\n",
       "SP500                7\n",
       "NIKKEI225            7\n",
       "BRAZIL               7\n",
       "ASIA                 7\n",
       "INDIA                7\n",
       "FTSEALL              7\n",
       "STOXX600             7\n",
       "dtype: int64"
      ]
     },
     "execution_count": 21,
     "metadata": {},
     "output_type": "execute_result"
    }
   ],
   "source": [
    "yf_name_df.isnull().sum()"
   ]
  },
  {
   "cell_type": "code",
   "execution_count": 22,
   "id": "c2ff8135-2e9d-4ae7-98c7-f78583ba9e6b",
   "metadata": {},
   "outputs": [],
   "source": [
    "yf_name_df.dropna(inplace=True)"
   ]
  },
  {
   "cell_type": "code",
   "execution_count": 28,
   "id": "a23c5d3a-9386-476b-8165-40d3e3401e16",
   "metadata": {},
   "outputs": [
    {
     "data": {
      "text/plain": [
       "(252, 9)"
      ]
     },
     "execution_count": 28,
     "metadata": {},
     "output_type": "execute_result"
    }
   ],
   "source": [
    "yf_name_df.shape"
   ]
  },
  {
   "cell_type": "code",
   "execution_count": 29,
   "id": "46f74630-e1ee-4832-8639-68e77acc2776",
   "metadata": {},
   "outputs": [],
   "source": [
    "yf_name_df.drop(columns=\"US dollar ex rate\", axis=0, inplace=True)"
   ]
  },
  {
   "cell_type": "code",
   "execution_count": 30,
   "id": "699e28dc-2c5e-423a-b5c0-62695866ee65",
   "metadata": {},
   "outputs": [
    {
     "data": {
      "text/html": [
       "<div>\n",
       "<style scoped>\n",
       "    .dataframe tbody tr th:only-of-type {\n",
       "        vertical-align: middle;\n",
       "    }\n",
       "\n",
       "    .dataframe tbody tr th {\n",
       "        vertical-align: top;\n",
       "    }\n",
       "\n",
       "    .dataframe thead th {\n",
       "        text-align: right;\n",
       "    }\n",
       "</style>\n",
       "<table border=\"1\" class=\"dataframe\">\n",
       "  <thead>\n",
       "    <tr style=\"text-align: right;\">\n",
       "      <th>Ticker</th>\n",
       "      <th>CHINA300</th>\n",
       "      <th>SP500</th>\n",
       "      <th>NIKKEI225</th>\n",
       "      <th>BRAZIL</th>\n",
       "      <th>ASIA</th>\n",
       "      <th>INDIA</th>\n",
       "      <th>FTSEALL</th>\n",
       "      <th>STOXX600</th>\n",
       "    </tr>\n",
       "    <tr>\n",
       "      <th>Date</th>\n",
       "      <th></th>\n",
       "      <th></th>\n",
       "      <th></th>\n",
       "      <th></th>\n",
       "      <th></th>\n",
       "      <th></th>\n",
       "      <th></th>\n",
       "      <th></th>\n",
       "    </tr>\n",
       "  </thead>\n",
       "  <tbody>\n",
       "    <tr>\n",
       "      <th>2024-01-22</th>\n",
       "      <td>3.134286</td>\n",
       "      <td>74346.5</td>\n",
       "      <td>19376.0</td>\n",
       "      <td>20.785000</td>\n",
       "      <td>32.314999</td>\n",
       "      <td>31.959005</td>\n",
       "      <td>60.610001</td>\n",
       "      <td>9602.0</td>\n",
       "    </tr>\n",
       "    <tr>\n",
       "      <th>2024-01-23</th>\n",
       "      <td>3.176998</td>\n",
       "      <td>74488.5</td>\n",
       "      <td>19237.0</td>\n",
       "      <td>20.915001</td>\n",
       "      <td>32.939999</td>\n",
       "      <td>31.030228</td>\n",
       "      <td>60.575001</td>\n",
       "      <td>9566.0</td>\n",
       "    </tr>\n",
       "    <tr>\n",
       "      <th>2024-01-24</th>\n",
       "      <td>3.271361</td>\n",
       "      <td>74769.5</td>\n",
       "      <td>19220.0</td>\n",
       "      <td>21.209999</td>\n",
       "      <td>33.455002</td>\n",
       "      <td>31.620395</td>\n",
       "      <td>60.930000</td>\n",
       "      <td>9678.0</td>\n",
       "    </tr>\n",
       "    <tr>\n",
       "      <th>2024-01-25</th>\n",
       "      <td>3.236557</td>\n",
       "      <td>75027.5</td>\n",
       "      <td>19141.0</td>\n",
       "      <td>21.270000</td>\n",
       "      <td>33.430000</td>\n",
       "      <td>31.461392</td>\n",
       "      <td>60.924999</td>\n",
       "      <td>9676.5</td>\n",
       "    </tr>\n",
       "    <tr>\n",
       "      <th>2024-01-26</th>\n",
       "      <td>3.254183</td>\n",
       "      <td>75044.0</td>\n",
       "      <td>19041.0</td>\n",
       "      <td>21.325001</td>\n",
       "      <td>33.419998</td>\n",
       "      <td>31.526746</td>\n",
       "      <td>61.724998</td>\n",
       "      <td>9801.0</td>\n",
       "    </tr>\n",
       "    <tr>\n",
       "      <th>...</th>\n",
       "      <td>...</td>\n",
       "      <td>...</td>\n",
       "      <td>...</td>\n",
       "      <td>...</td>\n",
       "      <td>...</td>\n",
       "      <td>...</td>\n",
       "      <td>...</td>\n",
       "      <td>...</td>\n",
       "    </tr>\n",
       "    <tr>\n",
       "      <th>2025-01-13</th>\n",
       "      <td>3.790471</td>\n",
       "      <td>93904.5</td>\n",
       "      <td>20147.0</td>\n",
       "      <td>17.059000</td>\n",
       "      <td>39.470001</td>\n",
       "      <td>34.221785</td>\n",
       "      <td>68.160004</td>\n",
       "      <td>10393.0</td>\n",
       "    </tr>\n",
       "    <tr>\n",
       "      <th>2025-01-14</th>\n",
       "      <td>3.881818</td>\n",
       "      <td>94251.0</td>\n",
       "      <td>20118.0</td>\n",
       "      <td>17.035000</td>\n",
       "      <td>39.924999</td>\n",
       "      <td>34.565449</td>\n",
       "      <td>67.980003</td>\n",
       "      <td>10436.0</td>\n",
       "    </tr>\n",
       "    <tr>\n",
       "      <th>2025-01-15</th>\n",
       "      <td>3.876671</td>\n",
       "      <td>95526.5</td>\n",
       "      <td>20274.5</td>\n",
       "      <td>17.212999</td>\n",
       "      <td>40.215000</td>\n",
       "      <td>34.863228</td>\n",
       "      <td>68.949997</td>\n",
       "      <td>10554.0</td>\n",
       "    </tr>\n",
       "    <tr>\n",
       "      <th>2025-01-16</th>\n",
       "      <td>3.870673</td>\n",
       "      <td>95991.0</td>\n",
       "      <td>20342.0</td>\n",
       "      <td>17.301001</td>\n",
       "      <td>40.555000</td>\n",
       "      <td>34.688224</td>\n",
       "      <td>69.769997</td>\n",
       "      <td>10662.0</td>\n",
       "    </tr>\n",
       "    <tr>\n",
       "      <th>2025-01-17</th>\n",
       "      <td>3.918065</td>\n",
       "      <td>97068.0</td>\n",
       "      <td>20502.0</td>\n",
       "      <td>17.535999</td>\n",
       "      <td>41.215000</td>\n",
       "      <td>34.759602</td>\n",
       "      <td>70.669998</td>\n",
       "      <td>10769.0</td>\n",
       "    </tr>\n",
       "  </tbody>\n",
       "</table>\n",
       "<p>252 rows × 8 columns</p>\n",
       "</div>"
      ],
      "text/plain": [
       "Ticker      CHINA300    SP500  NIKKEI225     BRAZIL       ASIA      INDIA  \\\n",
       "Date                                                                        \n",
       "2024-01-22  3.134286  74346.5    19376.0  20.785000  32.314999  31.959005   \n",
       "2024-01-23  3.176998  74488.5    19237.0  20.915001  32.939999  31.030228   \n",
       "2024-01-24  3.271361  74769.5    19220.0  21.209999  33.455002  31.620395   \n",
       "2024-01-25  3.236557  75027.5    19141.0  21.270000  33.430000  31.461392   \n",
       "2024-01-26  3.254183  75044.0    19041.0  21.325001  33.419998  31.526746   \n",
       "...              ...      ...        ...        ...        ...        ...   \n",
       "2025-01-13  3.790471  93904.5    20147.0  17.059000  39.470001  34.221785   \n",
       "2025-01-14  3.881818  94251.0    20118.0  17.035000  39.924999  34.565449   \n",
       "2025-01-15  3.876671  95526.5    20274.5  17.212999  40.215000  34.863228   \n",
       "2025-01-16  3.870673  95991.0    20342.0  17.301001  40.555000  34.688224   \n",
       "2025-01-17  3.918065  97068.0    20502.0  17.535999  41.215000  34.759602   \n",
       "\n",
       "Ticker        FTSEALL  STOXX600  \n",
       "Date                             \n",
       "2024-01-22  60.610001    9602.0  \n",
       "2024-01-23  60.575001    9566.0  \n",
       "2024-01-24  60.930000    9678.0  \n",
       "2024-01-25  60.924999    9676.5  \n",
       "2024-01-26  61.724998    9801.0  \n",
       "...               ...       ...  \n",
       "2025-01-13  68.160004   10393.0  \n",
       "2025-01-14  67.980003   10436.0  \n",
       "2025-01-15  68.949997   10554.0  \n",
       "2025-01-16  69.769997   10662.0  \n",
       "2025-01-17  70.669998   10769.0  \n",
       "\n",
       "[252 rows x 8 columns]"
      ]
     },
     "execution_count": 30,
     "metadata": {},
     "output_type": "execute_result"
    }
   ],
   "source": [
    "yf_name_df"
   ]
  },
  {
   "cell_type": "markdown",
   "id": "70076448-12d2-4c8e-b9a3-8717b374c5c3",
   "metadata": {},
   "source": [
    "### returns"
   ]
  },
  {
   "cell_type": "code",
   "execution_count": 35,
   "id": "fdceaee5-2fe5-492b-a9c4-42c18445fc07",
   "metadata": {},
   "outputs": [],
   "source": [
    "#Create a new columns Return in the dataset for each company's\n",
    "yf_name_df['R_CHINA300'] = yf_name_df[['CHINA300']].pct_change(1)\n",
    "yf_name_df['R_SP500'] = yf_name_df[['SP500']].pct_change(1)\n",
    "yf_name_df['R_NIKKEI225'] = yf_name_df[['NIKKEI225']].pct_change(1)\n",
    "yf_name_df['R_BRAZIL'] = yf_name_df[['BRAZIL']].pct_change(1)\n",
    "yf_name_df['R_ASIA'] = yf_name_df[['ASIA']].pct_change(1)\n",
    "yf_name_df['R_FTSEALL'] = yf_name_df[['FTSEALL']].pct_change(1)\n",
    "yf_name_df['R_STOXX600'] = yf_name_df[['STOXX600']].pct_change(1)"
   ]
  },
  {
   "cell_type": "code",
   "execution_count": 36,
   "id": "5751630c-c09d-46d1-994d-c8a1e68a5fc7",
   "metadata": {},
   "outputs": [],
   "source": [
    "returns  = yf_name_df[['R_CHINA300','R_SP500','R_NIKKEI225','R_BRAZIL','R_ASIA', 'R_FTSEALL','R_STOXX600']]"
   ]
  },
  {
   "cell_type": "markdown",
   "id": "de505b52-6852-4c1d-a094-076656fde035",
   "metadata": {},
   "source": [
    "### sharpe ratio"
   ]
  },
  {
   "cell_type": "code",
   "execution_count": 37,
   "id": "8fcf3719-5d5d-469b-b1bb-e315007d05a7",
   "metadata": {},
   "outputs": [],
   "source": [
    "# The Sharpe ratio gives the excess return of a stock (or a portfolio) per unit of risk."
   ]
  },
  {
   "cell_type": "code",
   "execution_count": 38,
   "id": "be93dc6c-23c8-4fed-adf5-0f6b1a178512",
   "metadata": {},
   "outputs": [],
   "source": [
    "# set the number of days in this sample to be the number of rows\n",
    "n_days = returns.shape[0]\n",
    "def sharpe_ratio (serie, rf = 0.045):\n",
    "    ''''\n",
    "    serie : Series of daily returns of the stock or portfolio\n",
    "    rf: annual return on a risk-free investment (default rf=0.045)\n",
    "    '''''\n",
    "    # Mean Annualized Return\n",
    "    rp = serie.mean()*n_days\n",
    "    # Annual volatility\n",
    "    volatility = serie.std()*np.sqrt(n_days)\n",
    "    # Sharpe ratio\n",
    "    sharpe = (rp - rf) / volatility\n",
    "    return sharpe"
   ]
  },
  {
   "cell_type": "code",
   "execution_count": 39,
   "id": "3a490dda-67df-48d0-af14-a774143febf7",
   "metadata": {},
   "outputs": [
    {
     "name": "stdout",
     "output_type": "stream",
     "text": [
      "Sharpe ratio: R_CHINA300 = 0.74\n",
      "Sharpe ratio: R_SP500 = 2.01\n",
      "Sharpe ratio: R_NIKKEI225 = 0.15\n",
      "Sharpe ratio: R_BRAZIL = -0.97\n",
      "Sharpe ratio: R_ASIA = 1.28\n",
      "Sharpe ratio: R_FTSEALL = 1.16\n",
      "Sharpe ratio: R_STOXX600 = 0.73\n"
     ]
    }
   ],
   "source": [
    "for col in returns.columns:\n",
    "    print(\"Sharpe ratio:\", col,\"=\", round(sharpe_ratio(yf_name_df[col]),2 ))"
   ]
  },
  {
   "cell_type": "markdown",
   "id": "9a893f98-48d5-4441-9b9f-b8e72a79f402",
   "metadata": {},
   "source": [
    "### portfolio optimisation"
   ]
  },
  {
   "cell_type": "code",
   "execution_count": 26,
   "id": "b3747bc1-29ff-48d2-a452-b96fc8be6625",
   "metadata": {},
   "outputs": [
    {
     "ename": "NameError",
     "evalue": "name 'returns' is not defined",
     "output_type": "error",
     "traceback": [
      "\u001b[1;31m---------------------------------------------------------------------------\u001b[0m",
      "\u001b[1;31mNameError\u001b[0m                                 Traceback (most recent call last)",
      "Cell \u001b[1;32mIn[26], line 3\u001b[0m\n\u001b[0;32m      1\u001b[0m \u001b[38;5;66;03m# Portfolio Simulation\u001b[39;00m\n\u001b[0;32m      2\u001b[0m portfolio        \u001b[38;5;241m=\u001b[39m \u001b[38;5;241m2673\u001b[39m  \u001b[38;5;66;03m# generation of a portfolio\u001b[39;00m\n\u001b[1;32m----> 3\u001b[0m n_assets         \u001b[38;5;241m=\u001b[39m \u001b[43mreturns\u001b[49m\u001b[38;5;241m.\u001b[39mshape[\u001b[38;5;241m1\u001b[39m]\n\u001b[0;32m      4\u001b[0m weights          \u001b[38;5;241m=\u001b[39m np\u001b[38;5;241m.\u001b[39mrandom\u001b[38;5;241m.\u001b[39mdirichlet(np\u001b[38;5;241m.\u001b[39mfull(n_assets,\u001b[38;5;241m0.05\u001b[39m),portfolio)\n\u001b[0;32m      5\u001b[0m mean_returns     \u001b[38;5;241m=\u001b[39m returns\u001b[38;5;241m.\u001b[39mmean()\n",
      "\u001b[1;31mNameError\u001b[0m: name 'returns' is not defined"
     ]
    }
   ],
   "source": [
    "# Portfolio Simulation\n",
    "portfolio        = 2673  # generation of a portfolio\n",
    "n_assets         = returns.shape[1]\n",
    "weights          = np.random.dirichlet(np.full(n_assets,0.05),portfolio)\n",
    "mean_returns     = returns.mean()\n",
    "sigma            = returns.cov()\n",
    "expected_returns = np.zeros(portfolio)\n",
    "expected_vol     = np.zeros(portfolio)\n",
    "sharpe_ratio     = np.zeros(portfolio)\n",
    "rf_rate          = 0.0                          # risk free rate\n",
    "\n",
    "for i in range(portfolio):\n",
    "    w                   = weights[i,:]\n",
    "    expected_returns[i] = np.sum(mean_returns @ w)*252\n",
    "    expected_vol[i]     = np.sqrt(np.dot(w.T,sigma @ w))*np.sqrt(252)\n",
    "    sharpe_ratio[i]     = (expected_returns[i]-rf_rate)/expected_vol[i]"
   ]
  },
  {
   "cell_type": "code",
   "execution_count": null,
   "id": "9677098a-01ac-4259-9c0f-6e65b14a51c1",
   "metadata": {},
   "outputs": [],
   "source": [
    "def portfolio_volatility(weight):\n",
    "    return np.sqrt(np.dot(weight.T,\n",
    "                          np.dot(sigma,weight)))*np.sqrt(252)\n",
    "\n",
    "def portfolio_return(weight):\n",
    "\n",
    "    return np.sum(mean_returns*weight)*252\n",
    "\n",
    "def portfolio_performance(weight):\n",
    "    return_p = portfolio_return(weight)\n",
    "    vol_p    = portfolio_volatility(weight)\n",
    "    return return_p, vol_p"
   ]
  },
  {
   "cell_type": "code",
   "execution_count": null,
   "id": "079c72fc-cca5-4ac0-af5e-d0ccfc53db6b",
   "metadata": {},
   "outputs": [],
   "source": [
    "def negativeSR(weight):\n",
    "    return_p, vol_p = portfolio_performance(weight)\n",
    "    rf_rate         = 0.025\n",
    "    return -(return_p - rf_rate)/vol_p\n",
    "\n",
    "def max_sharpe_ratio():\n",
    "\n",
    "    def sum_one(weight):\n",
    "        w= weight\n",
    "        return np.sum(weight)-1\n",
    "\n",
    "    n_assets           = returns.shape[1]\n",
    "    weight_constraints = ({'type':'eq','fun': sum_one})\n",
    "    w0                 = np.random.dirichlet(np.full(n_assets,0.05)).tolist()    # w0 is an initila guess\n",
    "\n",
    "    return minimize(negativeSR,w0,method='SLSQP',\n",
    "                          bounds  =((0,1),)*n_assets,\n",
    "                      constraints = weight_constraints)"
   ]
  },
  {
   "cell_type": "code",
   "execution_count": null,
   "id": "64a8ca65-7983-4194-bc40-2eaf6c6360bc",
   "metadata": {},
   "outputs": [],
   "source": [
    "def min_vol():\n",
    "\n",
    "    n_assets           = returns.shape[1]\n",
    "    weight_constraints = ({'type':'eq','fun': lambda x: np.sum(x)-1})\n",
    "    w0                 = np.random.dirichlet(np.full(n_assets,0.05)).tolist()\n",
    "    bounds             = ((0,1),)*n_assets\n",
    "\n",
    "    return minimize(portfolio_volatility,w0,method='SLSQP',\n",
    "                   bounds      = bounds,\n",
    "                   constraints = weight_constraints)"
   ]
  },
  {
   "cell_type": "code",
   "execution_count": null,
   "id": "746ac6cf-6886-4d49-99e7-6522011315d9",
   "metadata": {},
   "outputs": [],
   "source": [
    "def efficient_portfolio_target(target):\n",
    "\n",
    "    constraints = ({'type':'eq','fun': lambda x: portfolio_return(x)- target},\n",
    "                  {'type' :'eq','fun': lambda x: np.sum(x)-1})\n",
    "    w0          = np.random.dirichlet(np.full(n_assets,0.05)).tolist()\n",
    "    bounds      = ((0,1),)*n_assets\n",
    "\n",
    "    return minimize(portfolio_volatility,w0, method = 'SLSQP',\n",
    "                    bounds      = bounds,\n",
    "                    constraints = constraints)"
   ]
  },
  {
   "cell_type": "code",
   "execution_count": null,
   "id": "aa924fdf-1980-4086-9986-d27f24059cf7",
   "metadata": {},
   "outputs": [],
   "source": [
    "def efficient_frontier(return_range):\n",
    "    return [efficient_portfolio_target(ret) for ret in return_range]"
   ]
  },
  {
   "cell_type": "code",
   "execution_count": null,
   "id": "9530e3c0-af8a-4543-905b-5565a8d1b811",
   "metadata": {},
   "outputs": [],
   "source": [
    "sharpe_maximum      = max_sharpe_ratio()\n",
    "return_p,vol_p      = portfolio_performance(sharpe_maximum['x'])\n",
    "min_volatility      = min_vol()\n",
    "return_min,vol_min  = portfolio_performance(min_volatility['x'])\n",
    "\n",
    "\n",
    "plt.figure(figsize =(15,10))\n",
    "plt.style.use('ggplot')\n",
    "plt.scatter(expected_vol,expected_returns, c = sharpe_ratio)\n",
    "# plt.colorbar.sel(label = 'Sharpe Ratio',size=20)\n",
    "plt.colorbar().set_label('Sharpe Ratio', size= 20, color = 'g', family='serif',weight='bold')\n",
    "target               = np.linspace(return_min,1.02,100)\n",
    "efficient_portfolios = efficient_frontier(target)\n",
    "plt.plot([i.fun for i in efficient_portfolios], target, linestyle ='dashdot', color ='black',\n",
    "         label='Efficient Frontier')\n",
    "plt.scatter(vol_p,return_p, c = 'r', marker='*', s = 500, label = 'Maximum Sharpe Ratio')\n",
    "plt.scatter(vol_min,return_min, c = 'g',  marker ='*', s = 500, label='Minimum Volatility Portfolio')\n",
    "\n",
    "font1 = {'family':'serif','color':'darkred','size':20,'weight':'bold'}\n",
    "font2 = {'family':'serif','color':'darkred','size':20,'weight':'bold'}\n",
    "plt.title('Portfolio Optimization based on Efficient Frontier',fontdict=font1)\n",
    "plt.xlabel('Annualised Volatility',fontdict=font2)\n",
    "plt.ylabel('Annualised Returns',fontdict=font2)\n",
    "plt.legend(labelspacing=0.8)"
   ]
  },
  {
   "cell_type": "markdown",
   "id": "aa4941a4-9e39-4b6b-a792-37d862591743",
   "metadata": {},
   "source": [
    "### statistics"
   ]
  },
  {
   "cell_type": "code",
   "execution_count": null,
   "id": "87ac1bb0-5752-4797-bc25-5012a57b30ad",
   "metadata": {},
   "outputs": [],
   "source": [
    "daily_returns_df = yf_name_df.pct_change()"
   ]
  },
  {
   "cell_type": "code",
   "execution_count": null,
   "id": "b32fb96d-5434-4060-ae6f-3c34286e2816",
   "metadata": {},
   "outputs": [],
   "source": [
    "daily_returns_df.mean(skipna=True)"
   ]
  },
  {
   "cell_type": "code",
   "execution_count": null,
   "id": "0222b409-83d7-463e-89c6-f205bab5cac9",
   "metadata": {},
   "outputs": [],
   "source": [
    "daily_returns_df.std(skipna=True)"
   ]
  },
  {
   "cell_type": "code",
   "execution_count": null,
   "id": "3e9ecc4b-034f-4856-951f-180d5949e7ac",
   "metadata": {
    "scrolled": true
   },
   "outputs": [],
   "source": [
    "daily_returns_df.kurtosis()"
   ]
  },
  {
   "cell_type": "code",
   "execution_count": null,
   "id": "1efc3ec6-30a0-44f5-9f65-e28471acccc5",
   "metadata": {},
   "outputs": [],
   "source": [
    "daily_returns_df.skew()"
   ]
  },
  {
   "cell_type": "code",
   "execution_count": null,
   "id": "ecf189a8-5af7-443e-badf-073a6880fe71",
   "metadata": {},
   "outputs": [],
   "source": [
    "# Pairplots\n",
    "sns.pairplot(daily_returns_df, kind = 'reg')\n",
    "plt.show()"
   ]
  },
  {
   "cell_type": "code",
   "execution_count": null,
   "id": "5662a34b-cf26-49cc-ba9d-e2eb8fcd1cce",
   "metadata": {},
   "outputs": [],
   "source": [
    "yf_name_df"
   ]
  },
  {
   "cell_type": "code",
   "execution_count": null,
   "id": "4edd82d0-0a21-49f7-a4eb-63d4b3c0ff25",
   "metadata": {},
   "outputs": [],
   "source": [
    "from scipy import stats\n",
    "with sns.axes_style(\"whitegrid\"):\n",
    "    fig, axes = plt.subplots(nrows=9, ncols=2, figsize=(18,12))\n",
    "\n",
    "    axes[0][0].plot(yf_name_df['FTSEALL'], color='blue')\n",
    "    axes[0][0].set_title('Daily Returns FTSE all-share')\n",
    "\n",
    "    sns.distplot(yf_name_df['FTSEALL'], norm_hist=True, fit=stats.norm, color='blue',\n",
    "                bins=50, ax=axes[0][1])\n",
    "    axes[0][1].set_title('Density of FTSE all-share')\n",
    "\n",
    "    \n",
    "    axes[1][0].plot(yf_name_df['STOXX600'], color='green')\n",
    "    axes[1][0].set_title('Daily Returns of STOXX Europe 600')\n",
    "\n",
    "    sns.distplot(yf_name_df['STOXX600'], norm_hist=True, fit=stats.norm, color='green',\n",
    "                bins=50, ax=axes[1][1])\n",
    "    axes[1][1].set_title('Density of STOXX Europe 600')\n",
    "\n",
    "    \n",
    "    axes[2][0].plot(yf_name_df['NIKKEI225'], color='brown')\n",
    "    axes[2][0].set_title('Daily Returns NIKKEI 225')\n",
    "\n",
    "    sns.distplot(yf_name_df['NIKKEI225'], norm_hist=True, fit=stats.norm, color='brown',\n",
    "                bins=50, ax=axes[2][1])\n",
    "    axes[2][1].set_title('Density of NIKKEI 225')\n",
    "\n",
    "    \n",
    "    axes[3][0].plot(yf_name_df['SP500'], color='red')\n",
    "    axes[3][0].set_title('Daily Returns S&P 500')\n",
    "\n",
    "    sns.distplot(yf_name_df['SP500'], norm_hist=True, fit=stats.norm, color='red',\n",
    "                bins=50, ax=axes[3][1])\n",
    "    axes[3][1].set_title('Density of S&P 500')\n",
    "\n",
    "    axes[4][0].plot(yf_name_df['ASIA'], color='red')\n",
    "    axes[4][0].set_title('Daily Returns Asia (ex Japan)')\n",
    "\n",
    "    sns.distplot(yf_name_df['ASIA'], norm_hist=True, fit=stats.norm, color='red',\n",
    "                bins=50, ax=axes[4][1])\n",
    "    axes[4][1].set_title('Density of Asia (ex Japan)')\n",
    "\n",
    "    \n",
    "    axes[5][0].plot(yf_name_df['CHINA300'], color='red')\n",
    "    axes[5][0].set_title('Daily Returns China 300')\n",
    "\n",
    "    sns.distplot(yf_name_df['CHINA300'], norm_hist=True, fit=stats.norm, color='red',\n",
    "                bins=50, ax=axes[5][1])\n",
    "    axes[5][1].set_title('Density of China 300')\n",
    "\n",
    "    \n",
    "    axes[6][0].plot(yf_name_df['INDIA'], color='yellow')\n",
    "    axes[6][0].set_title('Daily Returns India')\n",
    "\n",
    "    sns.distplot(yf_name_df['INDIA'], norm_hist=True, fit=stats.norm, color='yellow',\n",
    "                bins=50, ax=axes[6][1])\n",
    "    axes[6][1].set_title('Density of India')\n",
    "\n",
    "    axes[7][0].plot(yf_name_df['BRAZIL'], color='blue')\n",
    "    axes[7][0].set_title('Daily Returns Brazil')\n",
    "\n",
    "    sns.distplot(yf_name_df['BRAZIL'], norm_hist=True, fit=stats.norm, color='blue',\n",
    "                bins=50, ax=axes[7][1])\n",
    "    axes[7][1].set_title('Density of Brazil')\n",
    "\n",
    "    axes[8][0].plot(yf_name_df['BITCOIN'], color='blue')\n",
    "    axes[8][0].set_title('Daily Returns Bitcoin')\n",
    "\n",
    "    sns.distplot(yf_name_df['BITCOIN'], norm_hist=True, fit=stats.norm, color='blue',\n",
    "                bins=50, ax=axes[8][1])\n",
    "    axes[8][1].set_title('Density of Bitcoin') \n",
    "    \n",
    "    plt.tight_layout()\n",
    "    plt.show()"
   ]
  },
  {
   "cell_type": "markdown",
   "id": "10522304-d190-46f4-9d84-1d354f2bd863",
   "metadata": {},
   "source": [
    "### check for dividends - check all ETFs reinvest dividends i.e. accumulate (acc)"
   ]
  },
  {
   "cell_type": "code",
   "execution_count": null,
   "id": "12c1ed6e-c688-4fee-9486-253914ef3828",
   "metadata": {},
   "outputs": [],
   "source": [
    "ticker_list"
   ]
  },
  {
   "cell_type": "code",
   "execution_count": null,
   "id": "319d444b-3e25-443c-a09e-a81c687bc498",
   "metadata": {},
   "outputs": [],
   "source": [
    "yf_dividend = pd.DataFrame()   # initialize dataframe\n",
    "\n",
    "for i in ticker_list:\n",
    "    x = pd.DataFrame(yf.Ticker(i).dividends)\n",
    "    x = x.rename(columns={\"Dividends\":i})\n",
    "    yf_dividend = pd.concat([yf_dividend,x], axis=1)\n",
    "    if len(x) > 0:\n",
    "        print('{:>8}\\t- dividends'.format(i))\n",
    "    else:\n",
    "        print('{:>8}\\t- no dividends'.format(i))             "
   ]
  },
  {
   "cell_type": "code",
   "execution_count": null,
   "id": "5f2e0317-8f66-4098-a2b1-4bcd99810a96",
   "metadata": {},
   "outputs": [],
   "source": [
    "yf_dividend"
   ]
  },
  {
   "cell_type": "raw",
   "id": "d2a152c0-0abf-4931-bfe6-8547f17cb6f6",
   "metadata": {},
   "source": [
    "#  match dates in yf_returns (first return data to now)\n",
    "yf_dividend = yf_dividend[yf_dividend.index >= yf_returns.index[0]]\n",
    "\n",
    "#  print out dividends\n",
    "print(\"\\n\",yf_dividend.tail(10))"
   ]
  },
  {
   "cell_type": "markdown",
   "id": "d0a1a06d-0d12-45b5-94b0-c803f3cb701d",
   "metadata": {},
   "source": [
    "### check currencies"
   ]
  },
  {
   "cell_type": "code",
   "execution_count": null,
   "id": "1268926f-1524-4fd2-a8e0-f315d26ea154",
   "metadata": {},
   "outputs": [],
   "source": [
    "ticker_list"
   ]
  },
  {
   "cell_type": "code",
   "execution_count": null,
   "id": "8592c77a-78ea-48ed-8b02-167316a730ae",
   "metadata": {},
   "outputs": [],
   "source": [
    "tickers = yf.Tickers(ticker_symbols)\n",
    "for i in ticker_list:\n",
    "    print(f\"{ticker_dict[i]} : {tickers.tickers[i].info['currency']}\")"
   ]
  },
  {
   "cell_type": "code",
   "execution_count": null,
   "id": "80381558-8773-42a6-907b-f3b829f43d1c",
   "metadata": {},
   "outputs": [],
   "source": [
    "tickers.tickers['FLXI.L'].info # india"
   ]
  },
  {
   "cell_type": "code",
   "execution_count": null,
   "id": "436cdc44-82a6-4389-bd62-3ad9828c6678",
   "metadata": {},
   "outputs": [],
   "source": [
    "ticker_info_df"
   ]
  },
  {
   "cell_type": "markdown",
   "id": "0d2e958d-fd37-4af3-a77f-d25b4fe8c700",
   "metadata": {},
   "source": [
    "### correlation"
   ]
  },
  {
   "cell_type": "markdown",
   "id": "e9c55235-55c0-4db1-8d67-764b17b1b8de",
   "metadata": {},
   "source": [
    "### fit curves"
   ]
  },
  {
   "cell_type": "code",
   "execution_count": null,
   "id": "af215323-01f9-41f8-92fc-47528023ee10",
   "metadata": {},
   "outputs": [],
   "source": [
    "import matplotlib.pyplot as plt\n",
    "import numpy as np\n",
    "plt.hist(daily_returns_df,bins=100)\n",
    "#plt.ylim(0,1500)\n",
    "plt.xlim(-0.05,0.05)\n",
    "plt.xlabel('daily_return %')\n",
    "plt.ylabel('frequency')\n",
    "plt.title('daily % returns 10yrs')"
   ]
  },
  {
   "cell_type": "markdown",
   "id": "388e55ea-4683-4003-894e-f06bea99f238",
   "metadata": {},
   "source": [
    "# Initialize distfit - ftse\n",
    "dist = distfit()\n",
    "\n",
    "# Determine best-fitting probability distribution for data\n",
    "dist.fit_transform(daily_returns_df['FTAL.L'].dropna())\n",
    "\n",
    "print(dist.summary)\n",
    "\n",
    "# Plot results\n",
    "dist.plot()\n",
    "plt.show()"
   ]
  },
  {
   "cell_type": "code",
   "execution_count": null,
   "id": "de3bc1ea-3d69-4047-a631-c53199fad177",
   "metadata": {},
   "outputs": [],
   "source": [
    "# Correlation Matrix\n",
    "corr = daily_returns_df.corr()\n",
    "mask = np.zeros_like(corr, dtype=np.bool_)\n",
    "mask[np.triu_indices_from(mask)] = True\n",
    "sns.heatmap(corr, annot=True, mask = mask)\n",
    "plt.show()"
   ]
  },
  {
   "cell_type": "markdown",
   "id": "9d86be58-37cd-439c-abcf-4a56bd6086b7",
   "metadata": {},
   "source": [
    "### portfolio - markowitz"
   ]
  },
  {
   "cell_type": "code",
   "execution_count": null,
   "id": "4228248d-51ea-4839-b410-ad450b2297b2",
   "metadata": {},
   "outputs": [],
   "source": [
    "weights = [0.2, 0.2, 0.2, 0.2,0.2,0.2,0.2,0.2] # Defining weights for each stock\n",
    "portfolio = yf_df.dot(weights) # Creating portfolio multiplying each stock for its respective weight \n",
    "portfolio # Displaying portfolio's daily returns"
   ]
  },
  {
   "cell_type": "code",
   "execution_count": null,
   "id": "14673ea0-86f0-458c-94de-3c2621e104f5",
   "metadata": {},
   "outputs": [],
   "source": [
    "# Calculating the annualized expected returns and the annualized sample covariance matrix\n",
    "mu = expected_returns.mean_historical_return(yf_df) #expected returns\n",
    "S = risk_models.sample_cov(yf_df) #Covariance matrix"
   ]
  },
  {
   "cell_type": "code",
   "execution_count": null,
   "id": "ced54667-8833-437c-a1d9-6ada2bf24b64",
   "metadata": {},
   "outputs": [],
   "source": [
    "# Visualizing the annualized expected returns\n",
    "mu"
   ]
  },
  {
   "cell_type": "code",
   "execution_count": null,
   "id": "16a306a0-d1bd-4c95-812a-60f3f743cfc1",
   "metadata": {},
   "outputs": [],
   "source": [
    "# Visualizing the covariance matrix\n",
    "S"
   ]
  },
  {
   "cell_type": "code",
   "execution_count": null,
   "id": "c4843071-4fb3-43d9-b7d7-9bece8c5a967",
   "metadata": {},
   "outputs": [],
   "source": [
    "# Optimizing for maximal Sharpe ratio\n",
    "ef = EfficientFrontier(mu, S) # Providing expected returns and covariance matrix as input\n",
    "weights = ef.max_sharpe() # Optimizing weights for Sharpe ratio maximization \n",
    "\n",
    "clean_weights = ef.clean_weights() # clean_weights rounds the weights and clips near-zeros\n",
    "\n",
    "# Printing optimized weights and expected performance for portfolio\n",
    "clean_weights"
   ]
  },
  {
   "cell_type": "code",
   "execution_count": null,
   "id": "fa8754c7-7f7e-4b62-aede-8fae2958cc35",
   "metadata": {},
   "outputs": [],
   "source": []
  },
  {
   "cell_type": "code",
   "execution_count": null,
   "id": "2a600d7e-5bfd-4f27-81c6-f4e49d9e573e",
   "metadata": {},
   "outputs": [],
   "source": []
  },
  {
   "cell_type": "code",
   "execution_count": null,
   "id": "beb5fc87-76aa-4736-80ac-b2e5865674a4",
   "metadata": {},
   "outputs": [],
   "source": []
  }
 ],
 "metadata": {
  "kernelspec": {
   "display_name": "nlp",
   "language": "python",
   "name": "nlp"
  },
  "language_info": {
   "codemirror_mode": {
    "name": "ipython",
    "version": 3
   },
   "file_extension": ".py",
   "mimetype": "text/x-python",
   "name": "python",
   "nbconvert_exporter": "python",
   "pygments_lexer": "ipython3",
   "version": "3.9.13"
  }
 },
 "nbformat": 4,
 "nbformat_minor": 5
}
